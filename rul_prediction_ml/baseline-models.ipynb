{
 "cells": [
  {
   "cell_type": "markdown",
   "metadata": {},
   "source": [
    "# Baseline models"
   ]
  },
  {
   "cell_type": "code",
   "execution_count": 536,
   "metadata": {},
   "outputs": [
    {
     "name": "stdout",
     "output_type": "stream",
     "text": [
      "TensorFlow has access to the following devices:\n",
      "[PhysicalDevice(name='/physical_device:CPU:0', device_type='CPU'), PhysicalDevice(name='/physical_device:GPU:0', device_type='GPU')]\n",
      "TensorFlow version: 2.9.2\n"
     ]
    }
   ],
   "source": [
    "import numpy as np\n",
    "import pandas as pd\n",
    "import matplotlib.pyplot as plt\n",
    "\n",
    "import tensorflow as tf\n",
    "from tensorflow import keras\n",
    "from keras import Sequential\n",
    "from keras.layers import LSTM, Convolution1D, GlobalAveragePooling1D, Dense, Dropout\n",
    "import keras_tuner as kt\n",
    "\n",
    "from lifelines import KaplanMeierFitter\n",
    "from lifelines.utils import median_survival_times\n",
    "from lifelines import CoxPHFitter\n",
    "from lifelines.statistics import proportional_hazard_test\n",
    "\n",
    "from sklearn.metrics import mean_squared_error, r2_score\n",
    "\n",
    "from sklearn.ensemble import RandomForestRegressor\n",
    "from sklearn.tree import export_graphviz\n",
    "\n",
    "from sklearn.ensemble import GradientBoostingRegressor\n",
    "from sklearn.svm import SVR\n",
    "from sklearn.pipeline import make_pipeline\n",
    "\n",
    "from sklearn.model_selection import RandomizedSearchCV\n",
    "\n",
    "from sklearn import preprocessing\n",
    "\n",
    "# Check for TensorFlow GPU access\n",
    "print(f\"TensorFlow has access to the following devices:\\n{tf.config.list_physical_devices()}\")\n",
    "\n",
    "# See TensorFlow version\n",
    "print(f\"TensorFlow version: {tf.__version__}\")"
   ]
  },
  {
   "cell_type": "code",
   "execution_count": 537,
   "metadata": {},
   "outputs": [],
   "source": [
    "train_data_df = pd.read_csv('../data_analysis/fd003/fd003-scaled_train.csv', sep=' ')\n",
    "test_data_df = pd.read_csv('../data_analysis/fd003/fd003-scaled_test.csv', sep=' ')\n",
    "\n",
    "train_labels_df = pd.read_csv('../data_analysis/fd003/fd003-training_labels.csv', sep=' ')\n",
    "test_labels_df = pd.read_csv('../data_analysis/fd003/fd003-testing_labels.csv', sep=' ')\n",
    "test_labels_at_break_df = pd.DataFrame(pd.read_csv('../TED/CMAPSSData/RUL_FD003.txt', sep=' ', header=None)[0])\n",
    "test_labels_at_break_df.columns = ['RUL']"
   ]
  },
  {
   "cell_type": "code",
   "execution_count": 538,
   "metadata": {},
   "outputs": [],
   "source": [
    "test_at_break_df = test_data_df.groupby(['ID'], sort=False).last().reset_index()\n",
    "train_labels_df = train_labels_df.clip(upper = 125)\n",
    "# test_labels_df = test_labels_df.clip(upper = 125)"
   ]
  },
  {
   "cell_type": "markdown",
   "metadata": {},
   "source": [
    "### Windows extraction"
   ]
  },
  {
   "cell_type": "code",
   "execution_count": 539,
   "metadata": {},
   "outputs": [],
   "source": [
    "def get_windows(data_df, labels_df, window_length, mode = 'train'):\n",
    "\n",
    "    if mode == 'train':\n",
    "\n",
    "        labels_df['ID'] = data_df['ID']\n",
    "\n",
    "        data_groupby = data_df.groupby('ID', sort=False)\n",
    "        labels_groupby = labels_df.groupby('ID', sort=False)\n",
    "\n",
    "        val_indices = np.random.choice(len(data_groupby), size = int(0.2 * len(data_groupby)))\n",
    "\n",
    "        tr_data_eng_arr = []\n",
    "        tr_labels_eng_arr = []\n",
    "\n",
    "        val_data_eng_arr = []\n",
    "        val_labels_eng_arr = []\n",
    "\n",
    "        for i in range(len(data_groupby)):\n",
    "            if i in val_indices:\n",
    "                val_data_eng_arr.append(data_groupby.get_group(i+1))\n",
    "            else:\n",
    "                tr_data_eng_arr.append(data_groupby.get_group(i+1))\n",
    "\n",
    "        for i in range(len(labels_groupby)):\n",
    "            if i in val_indices:\n",
    "                val_labels_eng_arr.append(labels_groupby.get_group(i+1))\n",
    "            else:\n",
    "                tr_labels_eng_arr.append(labels_groupby.get_group(i+1))\n",
    "\n",
    "        tr_data_windows = []\n",
    "        tr_label_windows = []\n",
    "        for index in range(len(tr_data_eng_arr)):\n",
    "            tr_data_arr = tr_data_eng_arr[index].to_numpy()\n",
    "            tr_labels_arr = tr_labels_eng_arr[index].to_numpy()\n",
    "            if tr_data_arr.shape[0] - window_length + 1 > 0:\n",
    "                for t in range(tr_data_arr.shape[0] - window_length + 1):\n",
    "                    tr_data_windows.append(tr_data_arr[t:t+window_length, :])\n",
    "                    tr_label_windows.append(tr_labels_arr[t+window_length - 1])\n",
    "\n",
    "        val_data_windows = []\n",
    "        val_label_windows = []\n",
    "        for index in range(len(val_data_eng_arr)):\n",
    "            val_data_arr = val_data_eng_arr[index].to_numpy()\n",
    "            val_labels_arr = val_labels_eng_arr[index].to_numpy()\n",
    "            if val_data_arr.shape[0] - window_length + 1 > 0:\n",
    "                for t in range(val_data_arr.shape[0] - window_length + 1):\n",
    "                    val_data_windows.append(val_data_arr[t:t+window_length, :])\n",
    "                    val_label_windows.append(val_labels_arr[t+window_length - 1])\n",
    "\n",
    "        return np.array(tr_data_windows), np.array(tr_label_windows), np.array(val_data_windows), np.array(val_label_windows)\n",
    "\n",
    "    else:\n",
    "\n",
    "        labels_df['ID'] = data_df['ID']\n",
    "\n",
    "        data_groupby = data_df.groupby('ID', sort=False)\n",
    "        labels_groupby = labels_df.groupby('ID', sort=False)\n",
    "        data_eng_arr = []\n",
    "        labels_eng_arr = []\n",
    "\n",
    "        for i in range(len(data_groupby)):\n",
    "            data_eng_arr.append(data_groupby.get_group(i+1))\n",
    "\n",
    "        for i in range(len(labels_groupby)):\n",
    "            labels_eng_arr.append(labels_groupby.get_group(i+1))\n",
    "\n",
    "        data_windows = []\n",
    "        label_windows = []\n",
    "        for index in range(len(data_eng_arr)):\n",
    "            data_arr = data_eng_arr[index].to_numpy()\n",
    "            labels_arr = labels_eng_arr[index].to_numpy()\n",
    "            if data_arr.shape[0] - window_length + 1 > 0:\n",
    "                data_windows.append(data_arr[-window_length:, :])\n",
    "                label_windows.append(labels_arr[-1, 0])\n",
    "\n",
    "        return np.array(data_windows), np.array(label_windows)"
   ]
  },
  {
   "cell_type": "markdown",
   "metadata": {},
   "source": [
    "### Divide train set between train and validation sets"
   ]
  },
  {
   "cell_type": "code",
   "execution_count": 540,
   "metadata": {},
   "outputs": [],
   "source": [
    "train_labels_df['ID'] = train_data_df['ID']"
   ]
  },
  {
   "cell_type": "code",
   "execution_count": 541,
   "metadata": {},
   "outputs": [],
   "source": [
    "train_groupby_df = train_data_df.groupby(['ID'], sort = False)\n",
    "train_labels_groupby_df = train_labels_df.groupby(['ID'], sort = False)\n",
    "val_indices = np.random.choice(len(train_groupby_df), size = int(0.2 * len(train_groupby_df)))\n",
    "\n",
    "train_labels_df = train_labels_df['RUL']\n",
    "\n",
    "val_arr = []\n",
    "train_set_arr = []\n",
    "val_labels_arr = []\n",
    "train_set_labels_arr = []\n",
    "\n",
    "for i in range(len(train_groupby_df)):\n",
    "    if i in val_indices:\n",
    "        val_arr.append(train_groupby_df.get_group(i+1))\n",
    "        val_labels_arr.append(train_labels_groupby_df.get_group(i+1)['RUL'])\n",
    "    else:\n",
    "        train_set_arr.append(train_groupby_df.get_group(i+1))\n",
    "        train_set_labels_arr.append(train_labels_groupby_df.get_group(i+1)['RUL'])\n",
    "\n",
    "val_set_df = val_arr[0]\n",
    "val_labels_df = val_labels_arr[0]\n",
    "for i in range(1, len(val_arr)):\n",
    "    val_set_df = pd.concat([val_set_df, val_arr[i]])\n",
    "    val_labels_df = pd.concat([val_labels_df, val_labels_arr[i]])\n",
    "\n",
    "train_set_df = train_set_arr[0]\n",
    "train_set_labels_df = train_set_labels_arr[0]\n",
    "for i in range(1, len(train_set_arr)):\n",
    "    train_set_df = pd.concat([train_set_df, train_set_arr[i]])\n",
    "    train_set_labels_df = pd.concat([train_set_labels_df, train_set_labels_arr[i]])\n",
    "\n",
    "train_set = train_set_df.values\n",
    "train_set_labels = train_set_labels_df.values\n",
    "val_set = val_set_df.values\n",
    "val_labels = val_labels_df.values\n",
    "val_labels = np.expand_dims(val_labels, axis = 1)\n",
    "train_set_labels = np.expand_dims(train_set_labels, axis = 1)\n",
    "train_labels = np.expand_dims(train_labels_df.values, axis = 1)"
   ]
  },
  {
   "cell_type": "code",
   "execution_count": 542,
   "metadata": {},
   "outputs": [
    {
     "data": {
      "text/plain": [
       "Index(['SensorMeasure2', 'SensorMeasure3', 'SensorMeasure4', 'SensorMeasure7',\n",
       "       'SensorMeasure8', 'SensorMeasure9', 'SensorMeasure11',\n",
       "       'SensorMeasure12', 'SensorMeasure13', 'SensorMeasure14',\n",
       "       'SensorMeasure15', 'SensorMeasure17', 'SensorMeasure20',\n",
       "       'SensorMeasure21'],\n",
       "      dtype='object')"
      ]
     },
     "execution_count": 542,
     "metadata": {},
     "output_type": "execute_result"
    }
   ],
   "source": [
    "ms_used = train_data_df.columns[2:]\n",
    "ms_used"
   ]
  },
  {
   "cell_type": "markdown",
   "metadata": {},
   "source": [
    "## Survival Analysis: KaplanMeierFitter and CoxPHFitter"
   ]
  },
  {
   "cell_type": "markdown",
   "metadata": {},
   "source": [
    "### Kaplan Meier Fitter"
   ]
  },
  {
   "cell_type": "code",
   "execution_count": 543,
   "metadata": {},
   "outputs": [],
   "source": [
    "km_train = train_data_df.copy()\n",
    "km_test = test_data_df.copy()\n",
    "km_train['Event Observed'] = 1\n",
    "km_test['Event Observed'] = 0\n",
    "\n",
    "km_total = pd.concat([km_train, km_test])"
   ]
  },
  {
   "cell_type": "code",
   "execution_count": 544,
   "metadata": {},
   "outputs": [
    {
     "data": {
      "text/plain": [
       "<AxesSubplot:xlabel='timeline'>"
      ]
     },
     "execution_count": 544,
     "metadata": {},
     "output_type": "execute_result"
    },
    {
     "data": {
      "image/png": "[encoded data removed]",
      "text/plain": [
       "<Figure size 432x288 with 1 Axes>"
      ]
     },
     "metadata": {
      "needs_background": "light"
     },
     "output_type": "display_data"
    }
   ],
   "source": [
    "kmf = KaplanMeierFitter()\n",
    "kmf.fit(durations = km_total['Cycle'], event_observed = km_total['Event Observed'])\n",
    "kmf.plot_survival_function()"
   ]
  },
  {
   "cell_type": "code",
   "execution_count": 545,
   "metadata": {},
   "outputs": [
    {
     "name": "stdout",
     "output_type": "stream",
     "text": [
      "161.0\n",
      "     KM_estimate_lower_0.95  KM_estimate_upper_0.95\n",
      "0.5                   160.0                   163.0\n"
     ]
    }
   ],
   "source": [
    "median_ = kmf.median_survival_time_\n",
    "median_confidence_interval_ = median_survival_times(kmf.confidence_interval_)\n",
    "print(median_)\n",
    "print(median_confidence_interval_)"
   ]
  },
  {
   "cell_type": "markdown",
   "metadata": {},
   "source": [
    "### Cox Proportional Hazard"
   ]
  },
  {
   "cell_type": "code",
   "execution_count": 546,
   "metadata": {},
   "outputs": [],
   "source": [
    "cox_train = train_data_df.copy()\n",
    "cox_test = test_data_df.copy()\n",
    "cox_train['Event Observed'] = 1\n",
    "cox_test['Event Observed'] = 0\n",
    "\n",
    "cox_total = pd.concat([cox_train, cox_test])"
   ]
  },
  {
   "cell_type": "code",
   "execution_count": 547,
   "metadata": {},
   "outputs": [
    {
     "name": "stderr",
     "output_type": "stream",
     "text": [
      "/Users/henry/.virtualenvs/tf-m1/lib/python3.9/site-packages/lifelines/utils/printer.py:62: FutureWarning: In future versions `DataFrame.to_latex` is expected to utilise the base implementation of `Styler.to_latex` for formatting and rendering. The arguments signature may therefore change. It is recommended instead to use `DataFrame.style.to_latex` which also contains additional functionality.\n",
      "  return summary_df[columns].to_latex(float_format=\"%.\" + str(self.decimals) + \"f\")\n"
     ]
    },
    {
     "data": {
      "text/html": [
       "<div>\n",
       "<style scoped>\n",
       "    .dataframe tbody tr th:only-of-type {\n",
       "        vertical-align: middle;\n",
       "    }\n",
       "\n",
       "    .dataframe tbody tr th {\n",
       "        vertical-align: top;\n",
       "    }\n",
       "\n",
       "    .dataframe thead th {\n",
       "        text-align: right;\n",
       "    }\n",
       "</style>\n",
       "<table border=\"1\" class=\"dataframe\">\n",
       "  <tbody>\n",
       "    <tr>\n",
       "      <th>model</th>\n",
       "      <td>lifelines.CoxPHFitter</td>\n",
       "    </tr>\n",
       "    <tr>\n",
       "      <th>duration col</th>\n",
       "      <td>'Cycle'</td>\n",
       "    </tr>\n",
       "    <tr>\n",
       "      <th>event col</th>\n",
       "      <td>'Event Observed'</td>\n",
       "    </tr>\n",
       "    <tr>\n",
       "      <th>baseline estimation</th>\n",
       "      <td>breslow</td>\n",
       "    </tr>\n",
       "    <tr>\n",
       "      <th>number of observations</th>\n",
       "      <td>41316</td>\n",
       "    </tr>\n",
       "    <tr>\n",
       "      <th>number of events observed</th>\n",
       "      <td>24720</td>\n",
       "    </tr>\n",
       "    <tr>\n",
       "      <th>partial log-likelihood</th>\n",
       "      <td>-224282.29</td>\n",
       "    </tr>\n",
       "    <tr>\n",
       "      <th>time fit was run</th>\n",
       "      <td>2022-08-25 23:41:48 UTC</td>\n",
       "    </tr>\n",
       "  </tbody>\n",
       "</table>\n",
       "</div><table border=\"1\" class=\"dataframe\">\n",
       "  <thead>\n",
       "    <tr style=\"text-align: right;\">\n",
       "      <th style=\"min-width: 12px;\"></th>\n",
       "      <th style=\"min-width: 12px;\">coef</th>\n",
       "      <th style=\"min-width: 12px;\">exp(coef)</th>\n",
       "      <th style=\"min-width: 12px;\">se(coef)</th>\n",
       "      <th style=\"min-width: 12px;\">coef lower 95%</th>\n",
       "      <th style=\"min-width: 12px;\">coef upper 95%</th>\n",
       "      <th style=\"min-width: 12px;\">exp(coef) lower 95%</th>\n",
       "      <th style=\"min-width: 12px;\">exp(coef) upper 95%</th>\n",
       "      <th style=\"min-width: 12px;\">cmp to</th>\n",
       "      <th style=\"min-width: 12px;\">z</th>\n",
       "      <th style=\"min-width: 12px;\">p</th>\n",
       "      <th style=\"min-width: 12px;\">-log2(p)</th>\n",
       "    </tr>\n",
       "  </thead>\n",
       "  <tbody>\n",
       "    <tr>\n",
       "      <th>ID</th>\n",
       "      <td>0.01</td>\n",
       "      <td>1.01</td>\n",
       "      <td>0.00</td>\n",
       "      <td>0.00</td>\n",
       "      <td>0.01</td>\n",
       "      <td>1.00</td>\n",
       "      <td>1.01</td>\n",
       "      <td>0.00</td>\n",
       "      <td>23.34</td>\n",
       "      <td>&lt;0.005</td>\n",
       "      <td>397.80</td>\n",
       "    </tr>\n",
       "    <tr>\n",
       "      <th>SensorMeasure2</th>\n",
       "      <td>-1.20</td>\n",
       "      <td>0.30</td>\n",
       "      <td>0.08</td>\n",
       "      <td>-1.36</td>\n",
       "      <td>-1.04</td>\n",
       "      <td>0.26</td>\n",
       "      <td>0.35</td>\n",
       "      <td>0.00</td>\n",
       "      <td>-14.65</td>\n",
       "      <td>&lt;0.005</td>\n",
       "      <td>159.04</td>\n",
       "    </tr>\n",
       "    <tr>\n",
       "      <th>SensorMeasure3</th>\n",
       "      <td>-0.34</td>\n",
       "      <td>0.71</td>\n",
       "      <td>0.08</td>\n",
       "      <td>-0.49</td>\n",
       "      <td>-0.19</td>\n",
       "      <td>0.61</td>\n",
       "      <td>0.83</td>\n",
       "      <td>0.00</td>\n",
       "      <td>-4.43</td>\n",
       "      <td>&lt;0.005</td>\n",
       "      <td>16.69</td>\n",
       "    </tr>\n",
       "    <tr>\n",
       "      <th>SensorMeasure4</th>\n",
       "      <td>-0.19</td>\n",
       "      <td>0.83</td>\n",
       "      <td>0.09</td>\n",
       "      <td>-0.36</td>\n",
       "      <td>-0.02</td>\n",
       "      <td>0.70</td>\n",
       "      <td>0.98</td>\n",
       "      <td>0.00</td>\n",
       "      <td>-2.18</td>\n",
       "      <td>0.03</td>\n",
       "      <td>5.11</td>\n",
       "    </tr>\n",
       "    <tr>\n",
       "      <th>SensorMeasure7</th>\n",
       "      <td>-1.66</td>\n",
       "      <td>0.19</td>\n",
       "      <td>0.26</td>\n",
       "      <td>-2.17</td>\n",
       "      <td>-1.14</td>\n",
       "      <td>0.11</td>\n",
       "      <td>0.32</td>\n",
       "      <td>0.00</td>\n",
       "      <td>-6.30</td>\n",
       "      <td>&lt;0.005</td>\n",
       "      <td>31.62</td>\n",
       "    </tr>\n",
       "    <tr>\n",
       "      <th>SensorMeasure8</th>\n",
       "      <td>-0.55</td>\n",
       "      <td>0.58</td>\n",
       "      <td>0.26</td>\n",
       "      <td>-1.06</td>\n",
       "      <td>-0.04</td>\n",
       "      <td>0.35</td>\n",
       "      <td>0.96</td>\n",
       "      <td>0.00</td>\n",
       "      <td>-2.12</td>\n",
       "      <td>0.03</td>\n",
       "      <td>4.86</td>\n",
       "    </tr>\n",
       "    <tr>\n",
       "      <th>SensorMeasure9</th>\n",
       "      <td>-1.71</td>\n",
       "      <td>0.18</td>\n",
       "      <td>0.23</td>\n",
       "      <td>-2.15</td>\n",
       "      <td>-1.26</td>\n",
       "      <td>0.12</td>\n",
       "      <td>0.28</td>\n",
       "      <td>0.00</td>\n",
       "      <td>-7.50</td>\n",
       "      <td>&lt;0.005</td>\n",
       "      <td>43.88</td>\n",
       "    </tr>\n",
       "    <tr>\n",
       "      <th>SensorMeasure11</th>\n",
       "      <td>-0.37</td>\n",
       "      <td>0.69</td>\n",
       "      <td>0.09</td>\n",
       "      <td>-0.55</td>\n",
       "      <td>-0.20</td>\n",
       "      <td>0.58</td>\n",
       "      <td>0.82</td>\n",
       "      <td>0.00</td>\n",
       "      <td>-4.26</td>\n",
       "      <td>&lt;0.005</td>\n",
       "      <td>15.60</td>\n",
       "    </tr>\n",
       "    <tr>\n",
       "      <th>SensorMeasure12</th>\n",
       "      <td>2.72</td>\n",
       "      <td>15.12</td>\n",
       "      <td>0.27</td>\n",
       "      <td>2.19</td>\n",
       "      <td>3.24</td>\n",
       "      <td>8.95</td>\n",
       "      <td>25.55</td>\n",
       "      <td>0.00</td>\n",
       "      <td>10.15</td>\n",
       "      <td>&lt;0.005</td>\n",
       "      <td>77.97</td>\n",
       "    </tr>\n",
       "    <tr>\n",
       "      <th>SensorMeasure13</th>\n",
       "      <td>1.09</td>\n",
       "      <td>2.97</td>\n",
       "      <td>0.26</td>\n",
       "      <td>0.58</td>\n",
       "      <td>1.59</td>\n",
       "      <td>1.79</td>\n",
       "      <td>4.92</td>\n",
       "      <td>0.00</td>\n",
       "      <td>4.23</td>\n",
       "      <td>&lt;0.005</td>\n",
       "      <td>15.36</td>\n",
       "    </tr>\n",
       "    <tr>\n",
       "      <th>SensorMeasure14</th>\n",
       "      <td>-6.35</td>\n",
       "      <td>0.00</td>\n",
       "      <td>0.22</td>\n",
       "      <td>-6.78</td>\n",
       "      <td>-5.92</td>\n",
       "      <td>0.00</td>\n",
       "      <td>0.00</td>\n",
       "      <td>0.00</td>\n",
       "      <td>-28.91</td>\n",
       "      <td>&lt;0.005</td>\n",
       "      <td>607.94</td>\n",
       "    </tr>\n",
       "    <tr>\n",
       "      <th>SensorMeasure15</th>\n",
       "      <td>4.24</td>\n",
       "      <td>69.12</td>\n",
       "      <td>0.11</td>\n",
       "      <td>4.01</td>\n",
       "      <td>4.46</td>\n",
       "      <td>55.38</td>\n",
       "      <td>86.28</td>\n",
       "      <td>0.00</td>\n",
       "      <td>37.45</td>\n",
       "      <td>&lt;0.005</td>\n",
       "      <td>1017.18</td>\n",
       "    </tr>\n",
       "    <tr>\n",
       "      <th>SensorMeasure17</th>\n",
       "      <td>-0.44</td>\n",
       "      <td>0.65</td>\n",
       "      <td>0.07</td>\n",
       "      <td>-0.58</td>\n",
       "      <td>-0.30</td>\n",
       "      <td>0.56</td>\n",
       "      <td>0.74</td>\n",
       "      <td>0.00</td>\n",
       "      <td>-6.14</td>\n",
       "      <td>&lt;0.005</td>\n",
       "      <td>30.16</td>\n",
       "    </tr>\n",
       "    <tr>\n",
       "      <th>SensorMeasure20</th>\n",
       "      <td>0.60</td>\n",
       "      <td>1.82</td>\n",
       "      <td>0.10</td>\n",
       "      <td>0.40</td>\n",
       "      <td>0.80</td>\n",
       "      <td>1.49</td>\n",
       "      <td>2.22</td>\n",
       "      <td>0.00</td>\n",
       "      <td>5.91</td>\n",
       "      <td>&lt;0.005</td>\n",
       "      <td>28.15</td>\n",
       "    </tr>\n",
       "    <tr>\n",
       "      <th>SensorMeasure21</th>\n",
       "      <td>1.36</td>\n",
       "      <td>3.91</td>\n",
       "      <td>0.11</td>\n",
       "      <td>1.16</td>\n",
       "      <td>1.57</td>\n",
       "      <td>3.18</td>\n",
       "      <td>4.81</td>\n",
       "      <td>0.00</td>\n",
       "      <td>12.90</td>\n",
       "      <td>&lt;0.005</td>\n",
       "      <td>124.14</td>\n",
       "    </tr>\n",
       "  </tbody>\n",
       "</table><br><div>\n",
       "<style scoped>\n",
       "    .dataframe tbody tr th:only-of-type {\n",
       "        vertical-align: middle;\n",
       "    }\n",
       "\n",
       "    .dataframe tbody tr th {\n",
       "        vertical-align: top;\n",
       "    }\n",
       "\n",
       "    .dataframe thead th {\n",
       "        text-align: right;\n",
       "    }\n",
       "</style>\n",
       "<table border=\"1\" class=\"dataframe\">\n",
       "  <tbody>\n",
       "    <tr>\n",
       "      <th>Concordance</th>\n",
       "      <td>0.68</td>\n",
       "    </tr>\n",
       "    <tr>\n",
       "      <th>Partial AIC</th>\n",
       "      <td>448594.58</td>\n",
       "    </tr>\n",
       "    <tr>\n",
       "      <th>log-likelihood ratio test</th>\n",
       "      <td>20913.34 on 15 df</td>\n",
       "    </tr>\n",
       "    <tr>\n",
       "      <th>-log2(p) of ll-ratio test</th>\n",
       "      <td>inf</td>\n",
       "    </tr>\n",
       "  </tbody>\n",
       "</table>\n",
       "</div>"
      ],
      "text/latex": [
       "\\begin{tabular}{lrrrrrrrrrrr}\n",
       "\\toprule\n",
       "{} &  coef &  exp(coef) &  se(coef) &  coef lower 95\\% &  coef upper 95\\% &  exp(coef) lower 95\\% &  exp(coef) upper 95\\% &  cmp to &      z &    p &  -log2(p) \\\\\n",
       "covariate       &       &            &           &                 &                 &                      &                      &         &        &      &           \\\\\n",
       "\\midrule\n",
       "ID              &  0.01 &       1.01 &      0.00 &            0.00 &            0.01 &                 1.00 &                 1.01 &    0.00 &  23.34 & 0.00 &    397.80 \\\\\n",
       "SensorMeasure2  & -1.20 &       0.30 &      0.08 &           -1.36 &           -1.04 &                 0.26 &                 0.35 &    0.00 & -14.65 & 0.00 &    159.04 \\\\\n",
       "SensorMeasure3  & -0.34 &       0.71 &      0.08 &           -0.49 &           -0.19 &                 0.61 &                 0.83 &    0.00 &  -4.43 & 0.00 &     16.69 \\\\\n",
       "SensorMeasure4  & -0.19 &       0.83 &      0.09 &           -0.36 &           -0.02 &                 0.70 &                 0.98 &    0.00 &  -2.18 & 0.03 &      5.11 \\\\\n",
       "SensorMeasure7  & -1.66 &       0.19 &      0.26 &           -2.17 &           -1.14 &                 0.11 &                 0.32 &    0.00 &  -6.30 & 0.00 &     31.62 \\\\\n",
       "SensorMeasure8  & -0.55 &       0.58 &      0.26 &           -1.06 &           -0.04 &                 0.35 &                 0.96 &    0.00 &  -2.12 & 0.03 &      4.86 \\\\\n",
       "SensorMeasure9  & -1.71 &       0.18 &      0.23 &           -2.15 &           -1.26 &                 0.12 &                 0.28 &    0.00 &  -7.50 & 0.00 &     43.88 \\\\\n",
       "SensorMeasure11 & -0.37 &       0.69 &      0.09 &           -0.55 &           -0.20 &                 0.58 &                 0.82 &    0.00 &  -4.26 & 0.00 &     15.60 \\\\\n",
       "SensorMeasure12 &  2.72 &      15.12 &      0.27 &            2.19 &            3.24 &                 8.95 &                25.55 &    0.00 &  10.15 & 0.00 &     77.97 \\\\\n",
       "SensorMeasure13 &  1.09 &       2.97 &      0.26 &            0.58 &            1.59 &                 1.79 &                 4.92 &    0.00 &   4.23 & 0.00 &     15.36 \\\\\n",
       "SensorMeasure14 & -6.35 &       0.00 &      0.22 &           -6.78 &           -5.92 &                 0.00 &                 0.00 &    0.00 & -28.91 & 0.00 &    607.94 \\\\\n",
       "SensorMeasure15 &  4.24 &      69.12 &      0.11 &            4.01 &            4.46 &                55.38 &                86.28 &    0.00 &  37.45 & 0.00 &   1017.18 \\\\\n",
       "SensorMeasure17 & -0.44 &       0.65 &      0.07 &           -0.58 &           -0.30 &                 0.56 &                 0.74 &    0.00 &  -6.14 & 0.00 &     30.16 \\\\\n",
       "SensorMeasure20 &  0.60 &       1.82 &      0.10 &            0.40 &            0.80 &                 1.49 &                 2.22 &    0.00 &   5.91 & 0.00 &     28.15 \\\\\n",
       "SensorMeasure21 &  1.36 &       3.91 &      0.11 &            1.16 &            1.57 &                 3.18 &                 4.81 &    0.00 &  12.90 & 0.00 &    124.14 \\\\\n",
       "\\bottomrule\n",
       "\\end{tabular}\n"
      ],
      "text/plain": [
       "<lifelines.CoxPHFitter: fitted with 41316 total observations, 16596 right-censored observations>\n",
       "             duration col = 'Cycle'\n",
       "                event col = 'Event Observed'\n",
       "      baseline estimation = breslow\n",
       "   number of observations = 41316\n",
       "number of events observed = 24720\n",
       "   partial log-likelihood = -224282.29\n",
       "         time fit was run = 2022-08-25 23:41:48 UTC\n",
       "\n",
       "---\n",
       "                  coef  exp(coef)   se(coef)   coef lower 95%   coef upper 95%  exp(coef) lower 95%  exp(coef) upper 95%\n",
       "covariate                                                                                                               \n",
       "ID                0.01       1.01       0.00             0.00             0.01                 1.00                 1.01\n",
       "SensorMeasure2   -1.20       0.30       0.08            -1.36            -1.04                 0.26                 0.35\n",
       "SensorMeasure3   -0.34       0.71       0.08            -0.49            -0.19                 0.61                 0.83\n",
       "SensorMeasure4   -0.19       0.83       0.09            -0.36            -0.02                 0.70                 0.98\n",
       "SensorMeasure7   -1.66       0.19       0.26            -2.17            -1.14                 0.11                 0.32\n",
       "SensorMeasure8   -0.55       0.58       0.26            -1.06            -0.04                 0.35                 0.96\n",
       "SensorMeasure9   -1.71       0.18       0.23            -2.15            -1.26                 0.12                 0.28\n",
       "SensorMeasure11  -0.37       0.69       0.09            -0.55            -0.20                 0.58                 0.82\n",
       "SensorMeasure12   2.72      15.12       0.27             2.19             3.24                 8.95                25.55\n",
       "SensorMeasure13   1.09       2.97       0.26             0.58             1.59                 1.79                 4.92\n",
       "SensorMeasure14  -6.35       0.00       0.22            -6.78            -5.92                 0.00                 0.00\n",
       "SensorMeasure15   4.24      69.12       0.11             4.01             4.46                55.38                86.28\n",
       "SensorMeasure17  -0.44       0.65       0.07            -0.58            -0.30                 0.56                 0.74\n",
       "SensorMeasure20   0.60       1.82       0.10             0.40             0.80                 1.49                 2.22\n",
       "SensorMeasure21   1.36       3.91       0.11             1.16             1.57                 3.18                 4.81\n",
       "\n",
       "                  cmp to      z      p   -log2(p)\n",
       "covariate                                        \n",
       "ID                  0.00  23.34 <0.005     397.80\n",
       "SensorMeasure2      0.00 -14.65 <0.005     159.04\n",
       "SensorMeasure3      0.00  -4.43 <0.005      16.69\n",
       "SensorMeasure4      0.00  -2.18   0.03       5.11\n",
       "SensorMeasure7      0.00  -6.30 <0.005      31.62\n",
       "SensorMeasure8      0.00  -2.12   0.03       4.86\n",
       "SensorMeasure9      0.00  -7.50 <0.005      43.88\n",
       "SensorMeasure11     0.00  -4.26 <0.005      15.60\n",
       "SensorMeasure12     0.00  10.15 <0.005      77.97\n",
       "SensorMeasure13     0.00   4.23 <0.005      15.36\n",
       "SensorMeasure14     0.00 -28.91 <0.005     607.94\n",
       "SensorMeasure15     0.00  37.45 <0.005    1017.18\n",
       "SensorMeasure17     0.00  -6.14 <0.005      30.16\n",
       "SensorMeasure20     0.00   5.91 <0.005      28.15\n",
       "SensorMeasure21     0.00  12.90 <0.005     124.14\n",
       "---\n",
       "Concordance = 0.68\n",
       "Partial AIC = 448594.58\n",
       "log-likelihood ratio test = 20913.34 on 15 df\n",
       "-log2(p) of ll-ratio test = inf"
      ]
     },
     "metadata": {},
     "output_type": "display_data"
    }
   ],
   "source": [
    "cph = CoxPHFitter()\n",
    "cph.fit(cox_total, duration_col = 'Cycle', event_col = 'Event Observed')\n",
    "cph.print_summary()"
   ]
  },
  {
   "cell_type": "code",
   "execution_count": 548,
   "metadata": {},
   "outputs": [
    {
     "data": {
      "text/plain": [
       "<AxesSubplot:xlabel='log(HR) (95% CI)'>"
      ]
     },
     "execution_count": 548,
     "metadata": {},
     "output_type": "execute_result"
    },
    {
     "data": {
      "image/png": "[encoded data removed]",
      "text/plain": [
       "<Figure size 720x432 with 1 Axes>"
      ]
     },
     "metadata": {
      "needs_background": "light"
     },
     "output_type": "display_data"
    }
   ],
   "source": [
    "plt.subplots(figsize = (10, 6))\n",
    "cph.plot()"
   ]
  },
  {
   "cell_type": "markdown",
   "metadata": {},
   "source": [
    "## Random Forest Regressor"
   ]
  },
  {
   "cell_type": "code",
   "execution_count": 549,
   "metadata": {},
   "outputs": [],
   "source": [
    "# train_data_df"
   ]
  },
  {
   "cell_type": "code",
   "execution_count": 550,
   "metadata": {},
   "outputs": [],
   "source": [
    "window_length = 30\n",
    "X_train, y_train, X_val, y_val = get_windows(train_data_df, train_labels_df, window_length, mode='train')\n",
    "X_test, y_test = get_windows(test_data_df, test_labels_df, window_length, mode = 'test')\n",
    "\n",
    "y_train = np.expand_dims(y_train, axis=1)\n",
    "y_val = np.expand_dims(y_val, axis=1)\n",
    "y_test = np.expand_dims(y_test, axis=1)\n",
    "\n",
    "X_train = X_train[:,:,2:]\n",
    "X_val = X_val[:,:,2:]\n",
    "X_test = X_test[:,:,2:]\n",
    "\n",
    "def mean_and_polynomial_fitting(data_set):\n",
    "    mean_trends = []\n",
    "    for window in data_set:\n",
    "        sensor_means = np.mean(window, axis = 0)\n",
    "        coefs = []\n",
    "        for i in range(window.shape[-1]):\n",
    "            coefs.append(np.polyfit(range(window.shape[0]), window[:,i], 1)[0])\n",
    "        mean_trend = np.concatenate((sensor_means, np.array(coefs)), axis = 0)\n",
    "        mean_trends.append(mean_trend)\n",
    "    return np.array(mean_trends)\n",
    "\n",
    "X_train = mean_and_polynomial_fitting(X_train)\n",
    "X_val = mean_and_polynomial_fitting(X_val)\n",
    "X_test = mean_and_polynomial_fitting(X_test)\n",
    "\n",
    "scale = preprocessing.MinMaxScaler()\n",
    "X_train = scale.fit_transform(X_train)\n",
    "X_val = scale.fit_transform(X_val)\n",
    "X_test = scale.fit_transform(X_test)"
   ]
  },
  {
   "cell_type": "code",
   "execution_count": 553,
   "metadata": {},
   "outputs": [
    {
     "name": "stdout",
     "output_type": "stream",
     "text": [
      "Fitting 3 folds for each of 10 candidates, totalling 30 fits\n",
      "[CV 1/3] END max_depth=8, min_samples_leaf=45, n_estimators=15;, score=(train=0.958, test=0.866) total time=   1.3s\n",
      "[CV 2/3] END max_depth=8, min_samples_leaf=45, n_estimators=15;, score=(train=0.950, test=0.899) total time=   1.4s\n",
      "[CV 3/3] END max_depth=8, min_samples_leaf=45, n_estimators=15;, score=(train=0.948, test=0.916) total time=   1.3s\n",
      "[CV 1/3] END max_depth=10, min_samples_leaf=45, n_estimators=15;, score=(train=0.962, test=0.864) total time=   1.5s\n",
      "[CV 2/3] END max_depth=10, min_samples_leaf=45, n_estimators=15;, score=(train=0.955, test=0.901) total time=   1.5s\n",
      "[CV 3/3] END max_depth=10, min_samples_leaf=45, n_estimators=15;, score=(train=0.953, test=0.917) total time=   1.5s\n",
      "[CV 1/3] END max_depth=8, min_samples_leaf=50, n_estimators=15;, score=(train=0.956, test=0.865) total time=   1.3s\n",
      "[CV 2/3] END max_depth=8, min_samples_leaf=50, n_estimators=15;, score=(train=0.948, test=0.901) total time=   1.3s\n",
      "[CV 3/3] END max_depth=8, min_samples_leaf=50, n_estimators=15;, score=(train=0.946, test=0.915) total time=   1.3s\n",
      "[CV 1/3] END max_depth=8, min_samples_leaf=40, n_estimators=15;, score=(train=0.959, test=0.867) total time=   1.3s\n",
      "[CV 2/3] END max_depth=8, min_samples_leaf=40, n_estimators=15;, score=(train=0.951, test=0.899) total time=   1.4s\n",
      "[CV 3/3] END max_depth=8, min_samples_leaf=40, n_estimators=15;, score=(train=0.950, test=0.917) total time=   1.3s\n",
      "[CV 1/3] END max_depth=9, min_samples_leaf=50, n_estimators=15;, score=(train=0.958, test=0.865) total time=   1.4s\n",
      "[CV 2/3] END max_depth=9, min_samples_leaf=50, n_estimators=15;, score=(train=0.952, test=0.902) total time=   1.4s\n",
      "[CV 3/3] END max_depth=9, min_samples_leaf=50, n_estimators=15;, score=(train=0.949, test=0.916) total time=   1.4s\n",
      "[CV 1/3] END max_depth=7, min_samples_leaf=45, n_estimators=15;, score=(train=0.952, test=0.867) total time=   1.2s\n",
      "[CV 2/3] END max_depth=7, min_samples_leaf=45, n_estimators=15;, score=(train=0.943, test=0.898) total time=   1.2s\n",
      "[CV 3/3] END max_depth=7, min_samples_leaf=45, n_estimators=15;, score=(train=0.942, test=0.914) total time=   1.2s\n",
      "[CV 1/3] END max_depth=10, min_samples_leaf=35, n_estimators=15;, score=(train=0.966, test=0.867) total time=   1.5s\n",
      "[CV 2/3] END max_depth=10, min_samples_leaf=35, n_estimators=15;, score=(train=0.961, test=0.903) total time=   1.7s\n",
      "[CV 3/3] END max_depth=10, min_samples_leaf=35, n_estimators=15;, score=(train=0.959, test=0.919) total time=   1.5s\n",
      "[CV 1/3] END max_depth=7, min_samples_leaf=40, n_estimators=15;, score=(train=0.953, test=0.869) total time=   1.2s\n",
      "[CV 2/3] END max_depth=7, min_samples_leaf=40, n_estimators=15;, score=(train=0.944, test=0.898) total time=   1.3s\n",
      "[CV 3/3] END max_depth=7, min_samples_leaf=40, n_estimators=15;, score=(train=0.944, test=0.915) total time=   1.3s\n",
      "[CV 1/3] END max_depth=9, min_samples_leaf=40, n_estimators=15;, score=(train=0.963, test=0.867) total time=   1.4s\n",
      "[CV 2/3] END max_depth=9, min_samples_leaf=40, n_estimators=15;, score=(train=0.956, test=0.901) total time=   1.4s\n",
      "[CV 3/3] END max_depth=9, min_samples_leaf=40, n_estimators=15;, score=(train=0.954, test=0.918) total time=   1.4s\n",
      "[CV 1/3] END max_depth=7, min_samples_leaf=35, n_estimators=15;, score=(train=0.954, test=0.870) total time=   1.2s\n",
      "[CV 2/3] END max_depth=7, min_samples_leaf=35, n_estimators=15;, score=(train=0.946, test=0.899) total time=   1.3s\n",
      "[CV 3/3] END max_depth=7, min_samples_leaf=35, n_estimators=15;, score=(train=0.946, test=0.916) total time=   1.3s\n",
      "RMSE: 23.87488219866226\n"
     ]
    }
   ],
   "source": [
    "rf_param_grid = {\n",
    "    'n_estimators': [15],\n",
    "    'max_depth': [7, 8, 9, 10], \n",
    "    'min_samples_leaf': [35, 40, 45, 50]\n",
    "    # 'max_features': ['log2', 'sqrt', None], \n",
    "    }\n",
    "\n",
    "rf = RandomForestRegressor(random_state=42)\n",
    "rand_search_rf = RandomizedSearchCV(estimator = rf, param_distributions = rf_param_grid, cv = 3, n_jobs = 1, verbose = 3, return_train_score=True)\n",
    "rand_search_rf.fit(X_train, y_train.squeeze())\n",
    "predictions_rf = rand_search_rf.predict(X_test).round()\n",
    "rmse = np.sqrt(mean_squared_error(y_test.squeeze(), predictions_rf))\n",
    "print(\"RMSE: \" + str(rmse)) "
   ]
  },
  {
   "cell_type": "code",
   "execution_count": 554,
   "metadata": {},
   "outputs": [
    {
     "data": {
      "text/plain": [
       "{'n_estimators': 15, 'min_samples_leaf': 35, 'max_depth': 10}"
      ]
     },
     "execution_count": 554,
     "metadata": {},
     "output_type": "execute_result"
    }
   ],
   "source": [
    "rand_search_rf.best_params_"
   ]
  },
  {
   "cell_type": "code",
   "execution_count": 431,
   "metadata": {},
   "outputs": [],
   "source": [
    "# rf = RandomForestRegressor(n_estimators = 700, min_samples_leaf = 40, max_features = 'log2', max_depth = 10, random_state=42)\n",
    "# rf.fit(train_data_df[ms_used].values, train_labels_df.values.squeeze())\n",
    "# predictions_rf = rf.predict(test_at_break_df[ms_used].values).round()\n",
    "# rmse = np.sqrt(mean_squared_error(test_labels_at_break_df.values, predictions_rf))\n",
    "# print(\"RMSE: \" + str(rmse)) \n",
    "\n",
    "# rf = RandomForestRegressor(n_estimators = 15, min_samples_leaf = 50, max_features = 'log2', max_depth = 8, random_state=42)\n",
    "# rf.fit(X_train, y_train.squeeze())\n",
    "# predictions_rf = rf.predict(X_test).round()\n",
    "# rmse = np.sqrt(mean_squared_error(y_test.squeeze(), predictions_rf))\n",
    "# print(\"RMSE: \" + str(rmse)) "
   ]
  },
  {
   "cell_type": "markdown",
   "metadata": {},
   "source": [
    "## Gradient Boosting Regressor"
   ]
  },
  {
   "cell_type": "code",
   "execution_count": 432,
   "metadata": {},
   "outputs": [
    {
     "name": "stdout",
     "output_type": "stream",
     "text": [
      "Fitting 3 folds for each of 10 candidates, totalling 30 fits\n",
      "[CV 1/3] END learning_rate=0.3, max_depth=9, min_samples_leaf=40, n_estimators=15;, score=(train=0.960, test=0.839) total time=   7.6s\n",
      "[CV 2/3] END learning_rate=0.3, max_depth=9, min_samples_leaf=40, n_estimators=15;, score=(train=0.953, test=0.879) total time=   7.6s\n",
      "[CV 3/3] END learning_rate=0.3, max_depth=9, min_samples_leaf=40, n_estimators=15;, score=(train=0.960, test=0.840) total time=   7.5s\n",
      "[CV 1/3] END learning_rate=0.1, max_depth=8, min_samples_leaf=50, n_estimators=15;, score=(train=0.879, test=0.816) total time=   6.6s\n",
      "[CV 2/3] END learning_rate=0.1, max_depth=8, min_samples_leaf=50, n_estimators=15;, score=(train=0.868, test=0.838) total time=   6.6s\n",
      "[CV 3/3] END learning_rate=0.1, max_depth=8, min_samples_leaf=50, n_estimators=15;, score=(train=0.881, test=0.807) total time=   6.7s\n",
      "[CV 1/3] END learning_rate=0.05, max_depth=10, min_samples_leaf=50, n_estimators=15;, score=(train=0.718, test=0.672) total time=   7.5s\n",
      "[CV 2/3] END learning_rate=0.05, max_depth=10, min_samples_leaf=50, n_estimators=15;, score=(train=0.710, test=0.679) total time=   7.6s\n",
      "[CV 3/3] END learning_rate=0.05, max_depth=10, min_samples_leaf=50, n_estimators=15;, score=(train=0.718, test=0.660) total time=   7.7s\n",
      "[CV 1/3] END learning_rate=0.05, max_depth=9, min_samples_leaf=45, n_estimators=15;, score=(train=0.715, test=0.672) total time=   7.2s\n",
      "[CV 2/3] END learning_rate=0.05, max_depth=9, min_samples_leaf=45, n_estimators=15;, score=(train=0.705, test=0.679) total time=   7.2s\n",
      "[CV 3/3] END learning_rate=0.05, max_depth=9, min_samples_leaf=45, n_estimators=15;, score=(train=0.715, test=0.659) total time=   7.2s\n",
      "[CV 1/3] END learning_rate=0.1, max_depth=8, min_samples_leaf=35, n_estimators=15;, score=(train=0.883, test=0.817) total time=   6.7s\n",
      "[CV 2/3] END learning_rate=0.1, max_depth=8, min_samples_leaf=35, n_estimators=15;, score=(train=0.872, test=0.839) total time=   6.7s\n",
      "[CV 3/3] END learning_rate=0.1, max_depth=8, min_samples_leaf=35, n_estimators=15;, score=(train=0.885, test=0.807) total time=   6.7s\n",
      "[CV 1/3] END learning_rate=0.001, max_depth=7, min_samples_leaf=45, n_estimators=15;, score=(train=0.026, test=0.024) total time=   6.0s\n",
      "[CV 2/3] END learning_rate=0.001, max_depth=7, min_samples_leaf=45, n_estimators=15;, score=(train=0.025, test=0.025) total time=   6.0s\n",
      "[CV 3/3] END learning_rate=0.001, max_depth=7, min_samples_leaf=45, n_estimators=15;, score=(train=0.026, test=0.024) total time=   6.0s\n",
      "[CV 1/3] END learning_rate=0.05, max_depth=8, min_samples_leaf=35, n_estimators=15;, score=(train=0.709, test=0.671) total time=   6.6s\n",
      "[CV 2/3] END learning_rate=0.05, max_depth=8, min_samples_leaf=35, n_estimators=15;, score=(train=0.700, test=0.677) total time=   6.6s\n",
      "[CV 3/3] END learning_rate=0.05, max_depth=8, min_samples_leaf=35, n_estimators=15;, score=(train=0.710, test=0.657) total time=   6.7s\n",
      "[CV 1/3] END learning_rate=0.3, max_depth=10, min_samples_leaf=35, n_estimators=15;, score=(train=0.968, test=0.838) total time=   8.1s\n",
      "[CV 2/3] END learning_rate=0.3, max_depth=10, min_samples_leaf=35, n_estimators=15;, score=(train=0.962, test=0.879) total time=   8.2s\n",
      "[CV 3/3] END learning_rate=0.3, max_depth=10, min_samples_leaf=35, n_estimators=15;, score=(train=0.969, test=0.840) total time=   8.0s\n",
      "[CV 1/3] END learning_rate=0.2, max_depth=7, min_samples_leaf=40, n_estimators=15;, score=(train=0.929, test=0.847) total time=   6.1s\n",
      "[CV 2/3] END learning_rate=0.2, max_depth=7, min_samples_leaf=40, n_estimators=15;, score=(train=0.918, test=0.884) total time=   6.0s\n",
      "[CV 3/3] END learning_rate=0.2, max_depth=7, min_samples_leaf=40, n_estimators=15;, score=(train=0.932, test=0.843) total time=   6.0s\n",
      "[CV 1/3] END learning_rate=0.001, max_depth=7, min_samples_leaf=35, n_estimators=15;, score=(train=0.026, test=0.024) total time=   6.0s\n",
      "[CV 2/3] END learning_rate=0.001, max_depth=7, min_samples_leaf=35, n_estimators=15;, score=(train=0.025, test=0.025) total time=   6.0s\n",
      "[CV 3/3] END learning_rate=0.001, max_depth=7, min_samples_leaf=35, n_estimators=15;, score=(train=0.026, test=0.024) total time=   6.0s\n",
      "{'n_estimators': 15, 'min_samples_leaf': 40, 'max_depth': 7, 'learning_rate': 0.2}\n",
      "RMSE: 32.83091832879848\n"
     ]
    }
   ],
   "source": [
    "gb_params = {\n",
    "    'learning_rate': [0.001, 0.05, 0.1, 0.2, 0.3],\n",
    "    'max_depth': [7, 8, 9, 10], \n",
    "    'min_samples_leaf': [35, 40, 45, 50],\n",
    "    'n_estimators': [15],\n",
    "    }\n",
    "\n",
    "gb = GradientBoostingRegressor()\n",
    "rand_search_gb = RandomizedSearchCV(estimator = gb, param_distributions = gb_params, cv = 3, n_jobs = 1, verbose = 3, return_train_score=True)\n",
    "rand_search_gb.fit(X_train, y_train.squeeze())\n",
    "\n",
    "predictions_gb = rand_search_gb.predict(X_test).round()\n",
    "print(rand_search_gb.best_params_)\n",
    "rmse = np.sqrt(mean_squared_error(y_test.squeeze(), predictions_gb))\n",
    "print(\"RMSE: \" + str(rmse)) "
   ]
  },
  {
   "cell_type": "code",
   "execution_count": 241,
   "metadata": {},
   "outputs": [
    {
     "data": {
      "text/html": [
       "<div>\n",
       "<style scoped>\n",
       "    .dataframe tbody tr th:only-of-type {\n",
       "        vertical-align: middle;\n",
       "    }\n",
       "\n",
       "    .dataframe tbody tr th {\n",
       "        vertical-align: top;\n",
       "    }\n",
       "\n",
       "    .dataframe thead th {\n",
       "        text-align: right;\n",
       "    }\n",
       "</style>\n",
       "<table border=\"1\" class=\"dataframe\">\n",
       "  <thead>\n",
       "    <tr style=\"text-align: right;\">\n",
       "      <th></th>\n",
       "      <th>RUL</th>\n",
       "    </tr>\n",
       "  </thead>\n",
       "  <tbody>\n",
       "    <tr>\n",
       "      <th>0</th>\n",
       "      <td>125</td>\n",
       "    </tr>\n",
       "    <tr>\n",
       "      <th>1</th>\n",
       "      <td>125</td>\n",
       "    </tr>\n",
       "    <tr>\n",
       "      <th>2</th>\n",
       "      <td>125</td>\n",
       "    </tr>\n",
       "    <tr>\n",
       "      <th>3</th>\n",
       "      <td>125</td>\n",
       "    </tr>\n",
       "    <tr>\n",
       "      <th>4</th>\n",
       "      <td>125</td>\n",
       "    </tr>\n",
       "    <tr>\n",
       "      <th>...</th>\n",
       "      <td>...</td>\n",
       "    </tr>\n",
       "    <tr>\n",
       "      <th>24716</th>\n",
       "      <td>3</td>\n",
       "    </tr>\n",
       "    <tr>\n",
       "      <th>24717</th>\n",
       "      <td>2</td>\n",
       "    </tr>\n",
       "    <tr>\n",
       "      <th>24718</th>\n",
       "      <td>1</td>\n",
       "    </tr>\n",
       "    <tr>\n",
       "      <th>24719</th>\n",
       "      <td>0</td>\n",
       "    </tr>\n",
       "    <tr>\n",
       "      <th>ID</th>\n",
       "      <td>0          1\n",
       "1          1\n",
       "2          1\n",
       "3      ...</td>\n",
       "    </tr>\n",
       "  </tbody>\n",
       "</table>\n",
       "<p>24721 rows × 1 columns</p>\n",
       "</div>"
      ],
      "text/plain": [
       "                                                     RUL\n",
       "0                                                    125\n",
       "1                                                    125\n",
       "2                                                    125\n",
       "3                                                    125\n",
       "4                                                    125\n",
       "...                                                  ...\n",
       "24716                                                  3\n",
       "24717                                                  2\n",
       "24718                                                  1\n",
       "24719                                                  0\n",
       "ID     0          1\n",
       "1          1\n",
       "2          1\n",
       "3      ...\n",
       "\n",
       "[24721 rows x 1 columns]"
      ]
     },
     "execution_count": 241,
     "metadata": {},
     "output_type": "execute_result"
    }
   ],
   "source": [
    "pd.DataFrame(train_labels_df)"
   ]
  },
  {
   "cell_type": "code",
   "execution_count": 333,
   "metadata": {},
   "outputs": [
    {
     "data": {
      "text/plain": [
       "((24720, 14), (24721,))"
      ]
     },
     "execution_count": 333,
     "metadata": {},
     "output_type": "execute_result"
    }
   ],
   "source": [
    "train_data_df[ms_used].values.shape, train_labels_df.values.shape"
   ]
  },
  {
   "cell_type": "code",
   "execution_count": 336,
   "metadata": {},
   "outputs": [
    {
     "name": "stdout",
     "output_type": "stream",
     "text": [
      "RMSE: 27.371152697685204\n"
     ]
    }
   ],
   "source": [
    "# gb = GradientBoostingRegressor(n_estimators = 700, min_samples_leaf = 40, max_features = 'log2', max_depth = 8, learning_rate = 0.05, random_state=42)\n",
    "# gb.fit(train_data_df[ms_used], train_labels_df)\n",
    "# predictions_gb = gb.predict(test_data_df[ms_used]).round()\n",
    "# rmse = np.sqrt(mean_squared_error(test_labels_df, predictions_gb))\n",
    "# print(\"RMSE: \" + str(rmse)) \n",
    "\n",
    "gb = GradientBoostingRegressor(n_estimators = 600, min_samples_leaf = 50, max_features = 'log2', max_depth = 7, learning_rate = 0.05, random_state=42)\n",
    "gb.fit(X_train, y_train.squeeze())\n",
    "predictions_gb = gb.predict(X_test).round()\n",
    "rmse = np.sqrt(mean_squared_error(y_test.squeeze(), predictions_gb))\n",
    "print(\"RMSE: \" + str(rmse)) "
   ]
  },
  {
   "cell_type": "markdown",
   "metadata": {},
   "source": [
    "## Support Vector Regressor"
   ]
  },
  {
   "cell_type": "code",
   "execution_count": null,
   "metadata": {},
   "outputs": [],
   "source": [
    "# svmr_params = {\n",
    "#     'kernel': ['rbf', 'linear', 'poly'],\n",
    "#     'C': [1, 2, 5, 10],\n",
    "#     'epsilon': [0.1 * i for i in range(1, 6)]\n",
    "# }\n",
    "\n",
    "# svmr = SVR()\n",
    "# rand_search_svmr = RandomizedSearchCV(estimator = svmr, param_distributions = svmr_params, cv = 3, n_jobs = 1, verbose = 3, return_train_score=True)\n",
    "# rand_search_svmr.fit(train_data_df[ms_used].values, train_labels_df.values.squeeze())\n",
    "\n",
    "# predictions_svmr = rand_search_svmr.predict(test_at_break_df[ms_used].values).round()\n",
    "# print(rand_search_svmr.best_params_)\n",
    "# rmse = np.sqrt(mean_squared_error(test_labels_at_break_df.values, predictions_svmr))\n",
    "# print(\"RMSE: \" + str(rmse)) "
   ]
  },
  {
   "cell_type": "code",
   "execution_count": 120,
   "metadata": {},
   "outputs": [
    {
     "name": "stdout",
     "output_type": "stream",
     "text": [
      "RMSE: 43.80096110302132\n"
     ]
    }
   ],
   "source": [
    "best_svmr = SVR(C = 1, epsilon = 0.0)\n",
    "best_svmr.fit(train_data_df[ms_used].values, train_labels_df.values.squeeze())\n",
    "predictions_svmr = best_svmr.predict(test_at_break_df[ms_used].values).round()\n",
    "rmse = np.sqrt(mean_squared_error(test_labels_at_break_df.values, predictions_svmr))\n",
    "print(\"RMSE: \" + str(rmse)) "
   ]
  },
  {
   "cell_type": "markdown",
   "metadata": {},
   "source": [
    "## Multi Layer Perceptron - Neural Network"
   ]
  },
  {
   "cell_type": "code",
   "execution_count": 157,
   "metadata": {},
   "outputs": [
    {
     "name": "stdout",
     "output_type": "stream",
     "text": [
      "Metal device set to: Apple M1 Max\n",
      "\n",
      "systemMemory: 32.00 GB\n",
      "maxCacheSize: 10.67 GB\n",
      "\n"
     ]
    },
    {
     "name": "stderr",
     "output_type": "stream",
     "text": [
      "2022-08-18 18:56:23.883578: I tensorflow/core/common_runtime/pluggable_device/pluggable_device_factory.cc:305] Could not identify NUMA node of platform GPU ID 0, defaulting to 0. Your kernel may not have been built with NUMA support.\n",
      "2022-08-18 18:56:23.883999: I tensorflow/core/common_runtime/pluggable_device/pluggable_device_factory.cc:271] Created TensorFlow device (/job:localhost/replica:0/task:0/device:GPU:0 with 0 MB memory) -> physical PluggableDevice (device: 0, name: METAL, pci bus id: <undefined>)\n"
     ]
    },
    {
     "ename": "ValueError",
     "evalue": "Failed to convert a NumPy array to a Tensor (Unsupported object type int).",
     "output_type": "error",
     "traceback": [
      "\u001b[0;31m---------------------------------------------------------------------------\u001b[0m",
      "\u001b[0;31mValueError\u001b[0m                                Traceback (most recent call last)",
      "\u001b[1;32m/Users/henry/Documents/Imperial/Masters' Project/rul-prediction-fed/rul_prediction_ml/baseline-models.ipynb Cell 32\u001b[0m in \u001b[0;36m<cell line: 10>\u001b[0;34m()\u001b[0m\n\u001b[1;32m      <a href='vscode-notebook-cell:/Users/henry/Documents/Imperial/Masters%27%20Project/rul-prediction-fed/rul_prediction_ml/baseline-models.ipynb#Y103sZmlsZQ%3D%3D?line=6'>7</a>\u001b[0m mlp_model\u001b[39m.\u001b[39madd(Dense(\u001b[39m1\u001b[39m))\n\u001b[1;32m      <a href='vscode-notebook-cell:/Users/henry/Documents/Imperial/Masters%27%20Project/rul-prediction-fed/rul_prediction_ml/baseline-models.ipynb#Y103sZmlsZQ%3D%3D?line=8'>9</a>\u001b[0m mlp_model\u001b[39m.\u001b[39mcompile(loss\u001b[39m=\u001b[39m\u001b[39m'\u001b[39m\u001b[39mmean_squared_error\u001b[39m\u001b[39m'\u001b[39m, optimizer \u001b[39m=\u001b[39m keras\u001b[39m.\u001b[39moptimizers\u001b[39m.\u001b[39mAdam(learning_rate \u001b[39m=\u001b[39m \u001b[39m0.0005\u001b[39m))   \n\u001b[0;32m---> <a href='vscode-notebook-cell:/Users/henry/Documents/Imperial/Masters%27%20Project/rul-prediction-fed/rul_prediction_ml/baseline-models.ipynb#Y103sZmlsZQ%3D%3D?line=9'>10</a>\u001b[0m mlp_history \u001b[39m=\u001b[39m mlp_model\u001b[39m.\u001b[39;49mfit(train_data_df\u001b[39m.\u001b[39;49mvalues, train_labels_df\u001b[39m.\u001b[39;49mvalues\u001b[39m.\u001b[39;49msqueeze(), epochs\u001b[39m=\u001b[39;49m\u001b[39m50\u001b[39;49m, batch_size \u001b[39m=\u001b[39;49m \u001b[39m256\u001b[39;49m)\n\u001b[1;32m     <a href='vscode-notebook-cell:/Users/henry/Documents/Imperial/Masters%27%20Project/rul-prediction-fed/rul_prediction_ml/baseline-models.ipynb#Y103sZmlsZQ%3D%3D?line=11'>12</a>\u001b[0m \u001b[39m# TESTING FUNCTION\u001b[39;00m\n\u001b[1;32m     <a href='vscode-notebook-cell:/Users/henry/Documents/Imperial/Masters%27%20Project/rul-prediction-fed/rul_prediction_ml/baseline-models.ipynb#Y103sZmlsZQ%3D%3D?line=12'>13</a>\u001b[0m \u001b[39mdef\u001b[39;00m \u001b[39mtesting\u001b[39m(actual, pred, mode \u001b[39m=\u001b[39m \u001b[39m'\u001b[39m\u001b[39mTest\u001b[39m\u001b[39m'\u001b[39m):\n",
      "File \u001b[0;32m~/.virtualenvs/tf-m1/lib/python3.9/site-packages/keras/utils/traceback_utils.py:67\u001b[0m, in \u001b[0;36mfilter_traceback.<locals>.error_handler\u001b[0;34m(*args, **kwargs)\u001b[0m\n\u001b[1;32m     65\u001b[0m \u001b[39mexcept\u001b[39;00m \u001b[39mException\u001b[39;00m \u001b[39mas\u001b[39;00m e:  \u001b[39m# pylint: disable=broad-except\u001b[39;00m\n\u001b[1;32m     66\u001b[0m   filtered_tb \u001b[39m=\u001b[39m _process_traceback_frames(e\u001b[39m.\u001b[39m__traceback__)\n\u001b[0;32m---> 67\u001b[0m   \u001b[39mraise\u001b[39;00m e\u001b[39m.\u001b[39mwith_traceback(filtered_tb) \u001b[39mfrom\u001b[39;00m \u001b[39mNone\u001b[39m\n\u001b[1;32m     68\u001b[0m \u001b[39mfinally\u001b[39;00m:\n\u001b[1;32m     69\u001b[0m   \u001b[39mdel\u001b[39;00m filtered_tb\n",
      "File \u001b[0;32m~/.virtualenvs/tf-m1/lib/python3.9/site-packages/tensorflow/python/framework/constant_op.py:102\u001b[0m, in \u001b[0;36mconvert_to_eager_tensor\u001b[0;34m(value, ctx, dtype)\u001b[0m\n\u001b[1;32m    100\u001b[0m     dtype \u001b[39m=\u001b[39m dtypes\u001b[39m.\u001b[39mas_dtype(dtype)\u001b[39m.\u001b[39mas_datatype_enum\n\u001b[1;32m    101\u001b[0m ctx\u001b[39m.\u001b[39mensure_initialized()\n\u001b[0;32m--> 102\u001b[0m \u001b[39mreturn\u001b[39;00m ops\u001b[39m.\u001b[39;49mEagerTensor(value, ctx\u001b[39m.\u001b[39;49mdevice_name, dtype)\n",
      "\u001b[0;31mValueError\u001b[0m: Failed to convert a NumPy array to a Tensor (Unsupported object type int)."
     ]
    }
   ],
   "source": [
    "mlp_model = Sequential()\n",
    "mlp_model.add(Dense(64, activation = 'relu', input_dim = train_data_df.values.shape[-1]))\n",
    "mlp_model.add(Dropout(0.25))\n",
    "mlp_model.add(Dense(128, activation = 'relu'))\n",
    "mlp_model.add(Dropout(0.25))\n",
    "mlp_model.add(Dense(256, activation = 'relu'))\n",
    "mlp_model.add(Dense(1))\n",
    "\n",
    "mlp_model.compile(loss='mean_squared_error', optimizer = keras.optimizers.Adam(learning_rate = 0.0005))   \n",
    "mlp_history = mlp_model.fit(train_data_df.values, train_labels_df.values.squeeze(), epochs=50, batch_size = 256)\n",
    "\n",
    "# TESTING FUNCTION\n",
    "def testing(actual, pred, mode = 'Test'):\n",
    "    mse = mean_squared_error(actual, pred)\n",
    "    rmse = np.sqrt(mse)\n",
    "    variance = r2_score(actual, pred)\n",
    "    print(mode + ' set RMSE: ' + str(rmse) + ', R2: ' + str(variance))\n",
    "\n",
    "train_mlp_pred = mlp_model.predict(train_data_df.values).round()\n",
    "testing(train_labels_df.values.squeeze(), train_mlp_pred, 'Train')\n",
    "\n",
    "test_mlp_pred = mlp_model.predict(test_data_df.values).round()\n",
    "testing(test_labels_df.values.squeeze(), test_mlp_pred)"
   ]
  },
  {
   "cell_type": "code",
   "execution_count": 51,
   "metadata": {},
   "outputs": [],
   "source": [
    "window_length = 20\n",
    "mlp_tr_data, mlp_tr_labels, mlp_val_data, mlp_val_labels = get_windows(train_data_df, train_labels_df, window_length, mode='train')\n",
    "mlp_test_data, mlp_test_labels = get_windows(test_data_df, test_labels_df, window_length, mode = 'test')\n",
    "\n",
    "mlp_tr_data = mlp_tr_data.reshape(mlp_tr_data.shape[0], -1)\n",
    "mlp_val_data = mlp_val_data.reshape(mlp_val_data.shape[0], -1)\n",
    "mlp_test_data = mlp_test_data.reshape(mlp_test_data.shape[0], -1)\n",
    "\n",
    "mlp_tr_labels = np.expand_dims(mlp_tr_labels, axis=1)\n",
    "mlp_val_labels = np.expand_dims(mlp_val_labels, axis=1)\n",
    "mlp_test_labels = np.expand_dims(mlp_test_labels, axis=1)"
   ]
  },
  {
   "cell_type": "code",
   "execution_count": 54,
   "metadata": {},
   "outputs": [
    {
     "name": "stdout",
     "output_type": "stream",
     "text": [
      "INFO:tensorflow:Reloading Oracle from existing project baseline_models/mlp/oracle.json\n",
      "INFO:tensorflow:Reloading Tuner from baseline_models/mlp/tuner0.json\n"
     ]
    }
   ],
   "source": [
    "def mlp_model_builder(hp):\n",
    "\n",
    "    hp_units1 = hp.Int('units1', min_value=32, max_value=128, step=32)\n",
    "    hp_units2 = hp.Int('units2', min_value=32, max_value=128, step=32)\n",
    "    hp_units3 = hp.Int('units3', min_value=32, max_value=128, step=32)\n",
    "\n",
    "    hp_dropout = hp.Choice('dropout_rate', values=[0.1, 0.2, 0.3, 0.4])\n",
    "    hp_learning_rate = hp.Choice('learning_rate', values=[0.001, 0.005, 0.01, 0.05])\n",
    "\n",
    "    mlp_model = Sequential()\n",
    "    mlp_model.add(Dense(units = hp_units1, activation = 'relu', input_dim = mlp_tr_data.shape[1]))\n",
    "    mlp_model.add(Dropout(hp_dropout))\n",
    "    mlp_model.add(Dense(units = hp_units2, activation = 'relu'))\n",
    "    mlp_model.add(Dropout(hp_dropout))\n",
    "    mlp_model.add(Dense(units = hp_units3 , activation = 'relu'))\n",
    "    mlp_model.add(Dropout(hp_dropout))\n",
    "    mlp_model.add(Dense(1, activation = 'relu'))\n",
    "\n",
    "    mlp_model.compile(optimizer=keras.optimizers.Adam(learning_rate = hp_learning_rate),\n",
    "                loss=keras.losses.MeanSquaredError())\n",
    "\n",
    "    return mlp_model\n",
    "\n",
    "mlp_tuner = kt.BayesianOptimization(mlp_model_builder,\n",
    "                                    objective='val_loss',\n",
    "                                    max_trials = 9,\n",
    "                                    directory='baseline_models',\n",
    "                                    project_name='mlp')"
   ]
  },
  {
   "cell_type": "code",
   "execution_count": 36,
   "metadata": {},
   "outputs": [
    {
     "name": "stdout",
     "output_type": "stream",
     "text": [
      "\n",
      "Search: Running Trial #5\n",
      "\n",
      "Value             |Best Value So Far |Hyperparameter\n",
      "128               |128               |units1\n",
      "32                |32                |units2\n",
      "128               |32                |units3\n",
      "0.1               |0.1               |dropout_rate\n",
      "0.001             |0.001             |learning_rate\n",
      "\n",
      "Epoch 1/100\n"
     ]
    },
    {
     "name": "stderr",
     "output_type": "stream",
     "text": [
      "2022-07-29 00:27:52.768364: W tensorflow/core/platform/profile_utils/cpu_utils.cc:128] Failed to get CPU frequency: 0 Hz\n"
     ]
    },
    {
     "ename": "ValueError",
     "evalue": "in user code:\n\n    File \"/Users/henry/.virtualenvs/tf-m1/lib/python3.9/site-packages/keras/engine/training.py\", line 1051, in train_function  *\n        return step_function(self, iterator)\n    File \"/Users/henry/.virtualenvs/tf-m1/lib/python3.9/site-packages/keras/engine/training.py\", line 1040, in step_function  **\n        outputs = model.distribute_strategy.run(run_step, args=(data,))\n    File \"/Users/henry/.virtualenvs/tf-m1/lib/python3.9/site-packages/keras/engine/training.py\", line 1030, in run_step  **\n        outputs = model.train_step(data)\n    File \"/Users/henry/.virtualenvs/tf-m1/lib/python3.9/site-packages/keras/engine/training.py\", line 889, in train_step\n        y_pred = self(x, training=True)\n    File \"/Users/henry/.virtualenvs/tf-m1/lib/python3.9/site-packages/keras/utils/traceback_utils.py\", line 67, in error_handler\n        raise e.with_traceback(filtered_tb) from None\n    File \"/Users/henry/.virtualenvs/tf-m1/lib/python3.9/site-packages/keras/engine/input_spec.py\", line 264, in assert_input_compatibility\n        raise ValueError(f'Input {input_index} of layer \"{layer_name}\" is '\n\n    ValueError: Input 0 of layer \"sequential\" is incompatible with the layer: expected shape=(None, 360), found shape=(None, 16)\n",
     "output_type": "error",
     "traceback": [
      "\u001b[0;31m---------------------------------------------------------------------------\u001b[0m",
      "\u001b[0;31mValueError\u001b[0m                                Traceback (most recent call last)",
      "\u001b[1;32m/Users/henry/Documents/Imperial/Masters' Project/rul-prediction-fed/rul_prediction_ml/baseline-models.ipynb Cell 26\u001b[0m in \u001b[0;36m<cell line: 1>\u001b[0;34m()\u001b[0m\n\u001b[0;32m----> <a href='vscode-notebook-cell:/Users/henry/Documents/Imperial/Masters%27%20Project/rul-prediction-fed/rul_prediction_ml/baseline-models.ipynb#ch0000060?line=0'>1</a>\u001b[0m mlp_tuner\u001b[39m.\u001b[39;49msearch(train_set_df[ms_used]\u001b[39m.\u001b[39;49mvalues, train_set_labels\u001b[39m.\u001b[39;49msqueeze(), epochs\u001b[39m=\u001b[39;49m\u001b[39m100\u001b[39;49m, validation_data \u001b[39m=\u001b[39;49m (val_set_df[ms_used]\u001b[39m.\u001b[39;49mvalues, val_labels\u001b[39m.\u001b[39;49msqueeze()), batch_size \u001b[39m=\u001b[39;49m \u001b[39m256\u001b[39;49m)\n\u001b[1;32m      <a href='vscode-notebook-cell:/Users/henry/Documents/Imperial/Masters%27%20Project/rul-prediction-fed/rul_prediction_ml/baseline-models.ipynb#ch0000060?line=1'>2</a>\u001b[0m best_mlp_hps \u001b[39m=\u001b[39m mlp_tuner\u001b[39m.\u001b[39mget_best_hyperparameters(num_trials\u001b[39m=\u001b[39m\u001b[39m1\u001b[39m)[\u001b[39m0\u001b[39m]\n\u001b[1;32m      <a href='vscode-notebook-cell:/Users/henry/Documents/Imperial/Masters%27%20Project/rul-prediction-fed/rul_prediction_ml/baseline-models.ipynb#ch0000060?line=3'>4</a>\u001b[0m best_mlp_model \u001b[39m=\u001b[39m mlp_tuner\u001b[39m.\u001b[39mhypermodel\u001b[39m.\u001b[39mbuild(best_mlp_hps)\n",
      "File \u001b[0;32m~/.virtualenvs/tf-m1/lib/python3.9/site-packages/keras_tuner/engine/base_tuner.py:183\u001b[0m, in \u001b[0;36mBaseTuner.search\u001b[0;34m(self, *fit_args, **fit_kwargs)\u001b[0m\n\u001b[1;32m    180\u001b[0m     \u001b[39mcontinue\u001b[39;00m\n\u001b[1;32m    182\u001b[0m \u001b[39mself\u001b[39m\u001b[39m.\u001b[39mon_trial_begin(trial)\n\u001b[0;32m--> 183\u001b[0m results \u001b[39m=\u001b[39m \u001b[39mself\u001b[39;49m\u001b[39m.\u001b[39;49mrun_trial(trial, \u001b[39m*\u001b[39;49mfit_args, \u001b[39m*\u001b[39;49m\u001b[39m*\u001b[39;49mfit_kwargs)\n\u001b[1;32m    184\u001b[0m \u001b[39m# `results` is None indicates user updated oracle in `run_trial()`.\u001b[39;00m\n\u001b[1;32m    185\u001b[0m \u001b[39mif\u001b[39;00m results \u001b[39mis\u001b[39;00m \u001b[39mNone\u001b[39;00m:\n",
      "File \u001b[0;32m~/.virtualenvs/tf-m1/lib/python3.9/site-packages/keras_tuner/engine/tuner.py:295\u001b[0m, in \u001b[0;36mTuner.run_trial\u001b[0;34m(self, trial, *args, **kwargs)\u001b[0m\n\u001b[1;32m    293\u001b[0m     callbacks\u001b[39m.\u001b[39mappend(model_checkpoint)\n\u001b[1;32m    294\u001b[0m     copied_kwargs[\u001b[39m\"\u001b[39m\u001b[39mcallbacks\u001b[39m\u001b[39m\"\u001b[39m] \u001b[39m=\u001b[39m callbacks\n\u001b[0;32m--> 295\u001b[0m     obj_value \u001b[39m=\u001b[39m \u001b[39mself\u001b[39;49m\u001b[39m.\u001b[39;49m_build_and_fit_model(trial, \u001b[39m*\u001b[39;49margs, \u001b[39m*\u001b[39;49m\u001b[39m*\u001b[39;49mcopied_kwargs)\n\u001b[1;32m    297\u001b[0m     histories\u001b[39m.\u001b[39mappend(obj_value)\n\u001b[1;32m    298\u001b[0m \u001b[39mreturn\u001b[39;00m histories\n",
      "File \u001b[0;32m~/.virtualenvs/tf-m1/lib/python3.9/site-packages/keras_tuner/engine/tuner.py:222\u001b[0m, in \u001b[0;36mTuner._build_and_fit_model\u001b[0;34m(self, trial, *args, **kwargs)\u001b[0m\n\u001b[1;32m    220\u001b[0m hp \u001b[39m=\u001b[39m trial\u001b[39m.\u001b[39mhyperparameters\n\u001b[1;32m    221\u001b[0m model \u001b[39m=\u001b[39m \u001b[39mself\u001b[39m\u001b[39m.\u001b[39m_try_build(hp)\n\u001b[0;32m--> 222\u001b[0m results \u001b[39m=\u001b[39m \u001b[39mself\u001b[39;49m\u001b[39m.\u001b[39;49mhypermodel\u001b[39m.\u001b[39;49mfit(hp, model, \u001b[39m*\u001b[39;49margs, \u001b[39m*\u001b[39;49m\u001b[39m*\u001b[39;49mkwargs)\n\u001b[1;32m    223\u001b[0m tuner_utils\u001b[39m.\u001b[39mvalidate_trial_results(\n\u001b[1;32m    224\u001b[0m     results, \u001b[39mself\u001b[39m\u001b[39m.\u001b[39moracle\u001b[39m.\u001b[39mobjective, \u001b[39m\"\u001b[39m\u001b[39mHyperModel.fit()\u001b[39m\u001b[39m\"\u001b[39m\n\u001b[1;32m    225\u001b[0m )\n\u001b[1;32m    226\u001b[0m \u001b[39mreturn\u001b[39;00m results\n",
      "File \u001b[0;32m~/.virtualenvs/tf-m1/lib/python3.9/site-packages/keras_tuner/engine/hypermodel.py:140\u001b[0m, in \u001b[0;36mHyperModel.fit\u001b[0;34m(self, hp, model, *args, **kwargs)\u001b[0m\n\u001b[1;32m    116\u001b[0m \u001b[39mdef\u001b[39;00m \u001b[39mfit\u001b[39m(\u001b[39mself\u001b[39m, hp, model, \u001b[39m*\u001b[39margs, \u001b[39m*\u001b[39m\u001b[39m*\u001b[39mkwargs):\n\u001b[1;32m    117\u001b[0m     \u001b[39m\"\"\"Train the model.\u001b[39;00m\n\u001b[1;32m    118\u001b[0m \n\u001b[1;32m    119\u001b[0m \u001b[39m    Args:\u001b[39;00m\n\u001b[0;32m   (...)\u001b[0m\n\u001b[1;32m    138\u001b[0m \u001b[39m        If return a float, it should be the `objective` value.\u001b[39;00m\n\u001b[1;32m    139\u001b[0m \u001b[39m    \"\"\"\u001b[39;00m\n\u001b[0;32m--> 140\u001b[0m     \u001b[39mreturn\u001b[39;00m model\u001b[39m.\u001b[39;49mfit(\u001b[39m*\u001b[39;49margs, \u001b[39m*\u001b[39;49m\u001b[39m*\u001b[39;49mkwargs)\n",
      "File \u001b[0;32m~/.virtualenvs/tf-m1/lib/python3.9/site-packages/keras/utils/traceback_utils.py:67\u001b[0m, in \u001b[0;36mfilter_traceback.<locals>.error_handler\u001b[0;34m(*args, **kwargs)\u001b[0m\n\u001b[1;32m     65\u001b[0m \u001b[39mexcept\u001b[39;00m \u001b[39mException\u001b[39;00m \u001b[39mas\u001b[39;00m e:  \u001b[39m# pylint: disable=broad-except\u001b[39;00m\n\u001b[1;32m     66\u001b[0m   filtered_tb \u001b[39m=\u001b[39m _process_traceback_frames(e\u001b[39m.\u001b[39m__traceback__)\n\u001b[0;32m---> 67\u001b[0m   \u001b[39mraise\u001b[39;00m e\u001b[39m.\u001b[39mwith_traceback(filtered_tb) \u001b[39mfrom\u001b[39;00m \u001b[39mNone\u001b[39m\n\u001b[1;32m     68\u001b[0m \u001b[39mfinally\u001b[39;00m:\n\u001b[1;32m     69\u001b[0m   \u001b[39mdel\u001b[39;00m filtered_tb\n",
      "File \u001b[0;32m/var/folders/4z/dx20wtl948x13fj468s2l3280000gn/T/__autograph_generated_filevadw84fh.py:15\u001b[0m, in \u001b[0;36mouter_factory.<locals>.inner_factory.<locals>.tf__train_function\u001b[0;34m(iterator)\u001b[0m\n\u001b[1;32m     13\u001b[0m \u001b[39mtry\u001b[39;00m:\n\u001b[1;32m     14\u001b[0m     do_return \u001b[39m=\u001b[39m \u001b[39mTrue\u001b[39;00m\n\u001b[0;32m---> 15\u001b[0m     retval_ \u001b[39m=\u001b[39m ag__\u001b[39m.\u001b[39mconverted_call(ag__\u001b[39m.\u001b[39mld(step_function), (ag__\u001b[39m.\u001b[39mld(\u001b[39mself\u001b[39m), ag__\u001b[39m.\u001b[39mld(iterator)), \u001b[39mNone\u001b[39;00m, fscope)\n\u001b[1;32m     16\u001b[0m \u001b[39mexcept\u001b[39;00m:\n\u001b[1;32m     17\u001b[0m     do_return \u001b[39m=\u001b[39m \u001b[39mFalse\u001b[39;00m\n",
      "\u001b[0;31mValueError\u001b[0m: in user code:\n\n    File \"/Users/henry/.virtualenvs/tf-m1/lib/python3.9/site-packages/keras/engine/training.py\", line 1051, in train_function  *\n        return step_function(self, iterator)\n    File \"/Users/henry/.virtualenvs/tf-m1/lib/python3.9/site-packages/keras/engine/training.py\", line 1040, in step_function  **\n        outputs = model.distribute_strategy.run(run_step, args=(data,))\n    File \"/Users/henry/.virtualenvs/tf-m1/lib/python3.9/site-packages/keras/engine/training.py\", line 1030, in run_step  **\n        outputs = model.train_step(data)\n    File \"/Users/henry/.virtualenvs/tf-m1/lib/python3.9/site-packages/keras/engine/training.py\", line 889, in train_step\n        y_pred = self(x, training=True)\n    File \"/Users/henry/.virtualenvs/tf-m1/lib/python3.9/site-packages/keras/utils/traceback_utils.py\", line 67, in error_handler\n        raise e.with_traceback(filtered_tb) from None\n    File \"/Users/henry/.virtualenvs/tf-m1/lib/python3.9/site-packages/keras/engine/input_spec.py\", line 264, in assert_input_compatibility\n        raise ValueError(f'Input {input_index} of layer \"{layer_name}\" is '\n\n    ValueError: Input 0 of layer \"sequential\" is incompatible with the layer: expected shape=(None, 360), found shape=(None, 16)\n"
     ]
    }
   ],
   "source": [
    "mlp_tuner.search(train_set_df[ms_used].values, train_set_labels.squeeze(), epochs=100, validation_data = (val_set_df[ms_used].values, val_labels.squeeze()), batch_size = 256)\n",
    "best_mlp_hps = mlp_tuner.get_best_hyperparameters(num_trials=1)[0]\n",
    "\n",
    "best_mlp_model = mlp_tuner.hypermodel.build(best_mlp_hps)\n",
    "mlp_history = best_mlp_model.fit(train_set_df[ms_used].values, train_set_labels.squeeze(), epochs=100, validation_data = (val_set_df[ms_used].values, val_labels.squeeze()), batch_size = 256)"
   ]
  },
  {
   "cell_type": "code",
   "execution_count": null,
   "metadata": {},
   "outputs": [],
   "source": [
    "# PLOT TRAIN AND VALIDATION LOSS\n",
    "def plot_loss(fit_history):\n",
    "    plt.figure(figsize=(13,5))\n",
    "    plt.plot(range(1, len(fit_history.history['loss'])+1), fit_history.history['loss'], label='train')\n",
    "    plt.plot(range(1, len(fit_history.history['val_loss'])+1), fit_history.history['val_loss'], label='validate')\n",
    "    plt.xlabel('Epochs')\n",
    "    plt.ylabel('Loss')\n",
    "    plt.legend()\n",
    "    plt.show()\n",
    "\n",
    "plot_loss(mlp_history)"
   ]
  },
  {
   "cell_type": "code",
   "execution_count": null,
   "metadata": {},
   "outputs": [],
   "source": [
    "# TESTING FUNCTION\n",
    "def testing(actual, pred, mode = 'Test'):\n",
    "    mse = mean_squared_error(actual, pred)\n",
    "    rmse = np.sqrt(mse)\n",
    "    variance = r2_score(actual, pred)\n",
    "    print(mode + ' set RMSE: ' + str(rmse) + ', R2: ' + str(variance))"
   ]
  },
  {
   "cell_type": "code",
   "execution_count": null,
   "metadata": {},
   "outputs": [],
   "source": [
    "train_full_pred = best_mlp_model.predict(mlp_tr_data)\n",
    "testing(mlp_tr_labels, train_full_pred, 'Train')\n",
    "\n",
    "test_at_break_pred = best_mlp_model.predict(mlp_test_data)\n",
    "testing(mlp_test_labels, test_at_break_pred)"
   ]
  },
  {
   "cell_type": "code",
   "execution_count": null,
   "metadata": {},
   "outputs": [],
   "source": [
    "train_full_pred = best_mlp_model.predict(train_data_df[ms_used].values)\n",
    "testing(train_labels_df.values.squeeze(), train_full_pred, 'Train')\n",
    "\n",
    "test_at_break_pred = best_mlp_model.predict(test_at_break_df[ms_used].values)\n",
    "testing(test_labels_at_break_df.values.squeeze(), test_at_break_pred)"
   ]
  },
  {
   "cell_type": "markdown",
   "metadata": {},
   "source": [
    "## Convolutional Neural Network"
   ]
  },
  {
   "cell_type": "code",
   "execution_count": null,
   "metadata": {},
   "outputs": [],
   "source": [
    "window_length = 20\n",
    "cnn_tr_data, cnn_tr_labels, cnn_val_data, cnn_val_labels = get_windows(train_data_df, train_labels_df, window_length, mode='train')\n",
    "cnn_test_data, cnn_test_labels = get_windows(test_data_df, test_labels_df, 20, mode = 'test')\n",
    "\n",
    "cnn_tr_labels = np.expand_dims(cnn_tr_labels, axis=1)\n",
    "cnn_val_labels = np.expand_dims(cnn_val_labels, axis=1)\n",
    "cnn_test_labels = np.expand_dims(cnn_test_labels, axis=1)"
   ]
  },
  {
   "cell_type": "markdown",
   "metadata": {},
   "source": [
    "### Model"
   ]
  },
  {
   "cell_type": "code",
   "execution_count": null,
   "metadata": {},
   "outputs": [],
   "source": [
    "cnn_model = Sequential()\n",
    "cnn_model.add(Convolution1D(256, 3, input_shape = (window_length, cnn_tr_data.shape[2])))\n",
    "cnn_model.add(Convolution1D(128, 3, activation = 'relu'))\n",
    "cnn_model.add(Convolution1D(64, 3, activation = 'relu'))\n",
    "cnn_model.add(GlobalAveragePooling1D(data_format = 'channels_last', keepdims = False))\n",
    "cnn_model.add(Dense(1, activation = 'relu'))\n",
    "\n",
    "cnn_model.compile(loss='mean_squared_error', optimizer='adam')\n",
    "cnn_model.save_weights('simple_lstm_weights.h5')\n",
    "\n",
    "cnn_model.compile(loss='mean_squared_error', optimizer='adam')  \n",
    "cnn_model.load_weights('simple_lstm_weights.h5')  \n",
    "\n",
    "history = cnn_model.fit(cnn_tr_data, cnn_tr_labels,\n",
    "                        validation_data=(cnn_val_data, cnn_val_labels),\n",
    "                        epochs=50,\n",
    "                        batch_size=128)"
   ]
  },
  {
   "cell_type": "code",
   "execution_count": null,
   "metadata": {},
   "outputs": [],
   "source": [
    "# TESTING FUNCTION\n",
    "def evaluate(actual, pred, mode = 'test'):\n",
    "    mse = mean_squared_error(actual, pred)\n",
    "    rmse = np.sqrt(mse)\n",
    "    variance = r2_score(actual, pred)\n",
    "    print(mode + ' set RMSE: ' + str(rmse) + ', R2: ' + str(variance))"
   ]
  },
  {
   "cell_type": "code",
   "execution_count": null,
   "metadata": {},
   "outputs": [],
   "source": [
    "# TESTING\n",
    "train_cnn_pred = cnn_model.predict(cnn_tr_data)\n",
    "evaluate(cnn_tr_labels, train_cnn_pred, 'train')\n",
    "\n",
    "test_cnn_pred = cnn_model.predict(cnn_test_data)\n",
    "evaluate(cnn_test_labels, test_cnn_pred)"
   ]
  },
  {
   "cell_type": "markdown",
   "metadata": {},
   "source": [
    "## LSTM Neural Network"
   ]
  },
  {
   "cell_type": "code",
   "execution_count": null,
   "metadata": {},
   "outputs": [],
   "source": [
    "lstm_model = Sequential()\n",
    "lstm_model.add(LSTM(32, activation='tanh', input_shape=(window_length, cnn_tr_data.shape[2])))\n",
    "lstm_model.add(Dense(1))\n",
    "\n",
    "lstm_model.compile(loss='mean_squared_error', optimizer='adam')\n",
    "lstm_model.save_weights('simple_lstm_weights.h5')\n",
    "\n",
    "lstm_model.compile(loss='mean_squared_error', optimizer='adam')  \n",
    "lstm_model.load_weights('simple_lstm_weights.h5')  \n",
    "\n",
    "history = lstm_model.fit(cnn_tr_data, cnn_tr_labels,\n",
    "                        validation_data=(cnn_val_data, cnn_val_labels),\n",
    "                        epochs=50,\n",
    "                        batch_size=128)"
   ]
  },
  {
   "cell_type": "code",
   "execution_count": null,
   "metadata": {},
   "outputs": [],
   "source": [
    "# PLOT LOSS HISTORY\n",
    "def plot_loss(fit_history):\n",
    "    plt.figure(figsize=(13,5))\n",
    "    plt.plot(range(1, len(fit_history.history['loss'])+1), fit_history.history['loss'], label='train')\n",
    "    plt.plot(range(1, len(fit_history.history['val_loss'])+1), fit_history.history['val_loss'], label='validate')\n",
    "    plt.xlabel('Epochs')\n",
    "    plt.ylabel('Loss')\n",
    "    plt.legend()\n",
    "    plt.show()\n",
    "\n",
    "plot_loss(history)"
   ]
  },
  {
   "cell_type": "code",
   "execution_count": null,
   "metadata": {},
   "outputs": [],
   "source": [
    "# TESTING FUNCTION\n",
    "def evaluate(actual, pred, mode = 'test'):\n",
    "    mse = mean_squared_error(actual, pred)\n",
    "    rmse = np.sqrt(mse)\n",
    "    variance = r2_score(actual, pred)\n",
    "    print(mode + ' set RMSE: ' + str(rmse) + ', R2: ' + str(variance))"
   ]
  },
  {
   "cell_type": "code",
   "execution_count": null,
   "metadata": {},
   "outputs": [],
   "source": [
    "# TESTING\n",
    "train_cnn_pred = lstm_model.predict(cnn_tr_data)\n",
    "evaluate(cnn_tr_labels, train_cnn_pred, 'train')\n",
    "\n",
    "test_cnn_pred = lstm_model.predict(cnn_test_data)\n",
    "evaluate(cnn_test_labels, test_cnn_pred)"
   ]
  }
 ],
 "metadata": {
  "kernelspec": {
   "display_name": "Python 3.9.13 ('tf-m1')",
   "language": "python",
   "name": "python3"
  },
  "language_info": {
   "codemirror_mode": {
    "name": "ipython",
    "version": 3
   },
   "file_extension": ".py",
   "mimetype": "text/x-python",
   "name": "python",
   "nbconvert_exporter": "python",
   "pygments_lexer": "ipython3",
   "version": "3.9.13"
  },
  "orig_nbformat": 4,
  "vscode": {
   "interpreter": {
    "hash": "7db919a617d352c2dafc671a388d65b97a697f0535deb448e14c82fa78835651"
   }
  }
 },
 "nbformat": 4,
 "nbformat_minor": 2
}
