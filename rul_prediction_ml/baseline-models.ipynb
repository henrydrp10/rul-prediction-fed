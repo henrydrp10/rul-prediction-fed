{
 "cells": [
  {
   "cell_type": "markdown",
   "metadata": {},
   "source": [
    "# Baseline models"
   ]
  },
  {
   "cell_type": "code",
   "execution_count": 1,
   "metadata": {},
   "outputs": [
    {
     "name": "stdout",
     "output_type": "stream",
     "text": [
      "TensorFlow has access to the following devices:\n",
      "[PhysicalDevice(name='/physical_device:CPU:0', device_type='CPU'), PhysicalDevice(name='/physical_device:GPU:0', device_type='GPU')]\n",
      "TensorFlow version: 2.9.2\n"
     ]
    }
   ],
   "source": [
    "import numpy as np\n",
    "import pandas as pd\n",
    "import matplotlib.pyplot as plt\n",
    "\n",
    "import tensorflow as tf\n",
    "from tensorflow import keras\n",
    "from keras import Sequential\n",
    "from keras.layers import LSTM, Convolution1D, GlobalAveragePooling1D, Dense, Dropout\n",
    "import keras_tuner as kt\n",
    "\n",
    "from sklearn.metrics import mean_squared_error, r2_score\n",
    "\n",
    "from sklearn.ensemble import RandomForestRegressor\n",
    "from sklearn.tree import export_graphviz\n",
    "\n",
    "from sklearn.ensemble import GradientBoostingRegressor\n",
    "from sklearn.svm import SVR\n",
    "from sklearn.pipeline import make_pipeline\n",
    "\n",
    "from sklearn.model_selection import RandomizedSearchCV\n",
    "\n",
    "# Check for TensorFlow GPU access\n",
    "print(f\"TensorFlow has access to the following devices:\\n{tf.config.list_physical_devices()}\")\n",
    "\n",
    "# See TensorFlow version\n",
    "print(f\"TensorFlow version: {tf.__version__}\")"
   ]
  },
  {
   "cell_type": "code",
   "execution_count": 2,
   "metadata": {},
   "outputs": [],
   "source": [
    "train_data_df = pd.read_csv('../data_analysis/fd001/fd001-scaled_train.csv', sep=' ')\n",
    "test_data_df = pd.read_csv('../data_analysis/fd001/fd001-scaled_test.csv', sep=' ')\n",
    "\n",
    "train_labels_df = pd.read_csv('../data_analysis/fd001/fd001-training_labels.csv', sep=' ')\n",
    "test_labels_df = pd.read_csv('../data_analysis/fd001/fd001-testing_labels.csv', sep=' ')\n",
    "test_labels_at_break_df = pd.DataFrame(pd.read_csv('../TED/CMAPSSData/RUL_FD001.txt', sep=' ', header=None)[0])\n",
    "test_labels_at_break_df.columns = ['RUL']"
   ]
  },
  {
   "cell_type": "code",
   "execution_count": 3,
   "metadata": {},
   "outputs": [],
   "source": [
    "test_at_break_df = test_data_df.groupby(['ID'], sort=False).last().reset_index()"
   ]
  },
  {
   "cell_type": "markdown",
   "metadata": {},
   "source": [
    "### Windows extraction"
   ]
  },
  {
   "cell_type": "code",
   "execution_count": 4,
   "metadata": {},
   "outputs": [],
   "source": [
    "def get_windows(data_df, labels_df, window_length, mode = 'train'):\n",
    "\n",
    "    if mode == 'train':\n",
    "\n",
    "        labels_df['ID'] = data_df['ID']\n",
    "\n",
    "        data_groupby = data_df.groupby('ID', sort=False)\n",
    "        labels_groupby = labels_df.groupby('ID', sort=False)\n",
    "\n",
    "        val_indices = np.random.choice(len(data_groupby), size = int(0.2 * len(data_groupby)))\n",
    "\n",
    "        tr_data_eng_arr = []\n",
    "        tr_labels_eng_arr = []\n",
    "\n",
    "        val_data_eng_arr = []\n",
    "        val_labels_eng_arr = []\n",
    "\n",
    "        for i in range(len(data_groupby)):\n",
    "            if i in val_indices:\n",
    "                val_data_eng_arr.append(data_groupby.get_group(i+1))\n",
    "            else:\n",
    "                tr_data_eng_arr.append(data_groupby.get_group(i+1))\n",
    "\n",
    "        for i in range(len(labels_groupby)):\n",
    "            if i in val_indices:\n",
    "                val_labels_eng_arr.append(labels_groupby.get_group(i+1))\n",
    "            else:\n",
    "                tr_labels_eng_arr.append(labels_groupby.get_group(i+1))\n",
    "\n",
    "        tr_data_windows = []\n",
    "        tr_label_windows = []\n",
    "        for index in range(len(tr_data_eng_arr)):\n",
    "            tr_data_arr = tr_data_eng_arr[index].to_numpy()\n",
    "            tr_labels_arr = tr_labels_eng_arr[index].to_numpy()\n",
    "            for t in range(tr_data_arr.shape[0] - window_length + 1):\n",
    "                tr_data_windows.append(tr_data_arr[t:t+window_length, :])\n",
    "                tr_label_windows.append(tr_labels_arr[t+window_length - 1, 0])\n",
    "\n",
    "        val_data_windows = []\n",
    "        val_label_windows = []\n",
    "        for index in range(len(val_data_eng_arr)):\n",
    "            val_data_arr = val_data_eng_arr[index].to_numpy()\n",
    "            val_labels_arr = val_labels_eng_arr[index].to_numpy()\n",
    "            for t in range(val_data_arr.shape[0] - window_length + 1):\n",
    "                val_data_windows.append(val_data_arr[t:t+window_length, :])\n",
    "                val_label_windows.append(val_labels_arr[t+window_length - 1, 0])\n",
    "\n",
    "        return np.array(tr_data_windows), np.array(tr_label_windows), np.array(val_data_windows), np.array(val_label_windows)\n",
    "\n",
    "    else:\n",
    "\n",
    "        labels_df['ID'] = data_df['ID']\n",
    "\n",
    "        data_groupby = data_df.groupby('ID', sort=False)\n",
    "        labels_groupby = labels_df.groupby('ID', sort=False)\n",
    "        data_eng_arr = []\n",
    "        labels_eng_arr = []\n",
    "\n",
    "        for i in range(len(data_groupby)):\n",
    "            data_eng_arr.append(data_groupby.get_group(i+1))\n",
    "\n",
    "        for i in range(len(labels_groupby)):\n",
    "            labels_eng_arr.append(labels_groupby.get_group(i+1))\n",
    "\n",
    "        data_windows = []\n",
    "        label_windows = []\n",
    "        for index in range(len(data_eng_arr)):\n",
    "            data_arr = data_eng_arr[index].to_numpy()\n",
    "            labels_arr = labels_eng_arr[index].to_numpy()\n",
    "            data_windows.append(data_arr[-window_length:, :])\n",
    "            label_windows.append(labels_arr[-1, 0])\n",
    "\n",
    "        return np.array(data_windows), np.array(label_windows)"
   ]
  },
  {
   "cell_type": "markdown",
   "metadata": {},
   "source": [
    "### Divide train set between train and validation sets"
   ]
  },
  {
   "cell_type": "code",
   "execution_count": 5,
   "metadata": {},
   "outputs": [],
   "source": [
    "train_labels_df['ID'] = train_data_df['ID']"
   ]
  },
  {
   "cell_type": "code",
   "execution_count": 6,
   "metadata": {},
   "outputs": [],
   "source": [
    "train_groupby_df = train_data_df.groupby(['ID'], sort = False)\n",
    "train_labels_groupby_df = train_labels_df.groupby(['ID'], sort = False)\n",
    "val_indices = np.random.choice(len(train_groupby_df), size = int(0.2 * len(train_groupby_df)))\n",
    "\n",
    "val_arr = []\n",
    "train_set_arr = []\n",
    "val_labels_arr = []\n",
    "train_set_labels_arr = []\n",
    "\n",
    "for i in range(len(train_groupby_df)):\n",
    "    if i in val_indices:\n",
    "        val_arr.append(train_groupby_df.get_group(i+1))\n",
    "        val_labels_arr.append(train_labels_groupby_df.get_group(i+1)['RUL'])\n",
    "    else:\n",
    "        train_set_arr.append(train_groupby_df.get_group(i+1))\n",
    "        train_set_labels_arr.append(train_labels_groupby_df.get_group(i+1)['RUL'])\n",
    "\n",
    "val_set_df = val_arr[0]\n",
    "val_labels_df = val_labels_arr[0]\n",
    "for i in range(1, len(val_arr)):\n",
    "    val_set_df = pd.concat([val_set_df, val_arr[i]])\n",
    "    val_labels_df = pd.concat([val_labels_df, val_labels_arr[i]])\n",
    "\n",
    "train_set_df = train_set_arr[0]\n",
    "train_set_labels_df = train_set_labels_arr[0]\n",
    "for i in range(1, len(train_set_arr)):\n",
    "    train_set_df = pd.concat([train_set_df, train_set_arr[i]])\n",
    "    train_set_labels_df = pd.concat([train_set_labels_df, train_set_labels_arr[i]])\n",
    "\n",
    "train_set = train_set_df.values\n",
    "train_set_labels = train_set_labels_df.values\n",
    "val_set = val_set_df.values\n",
    "val_labels = val_labels_df.values\n",
    "val_labels = np.expand_dims(val_labels, axis = 1)\n",
    "train_set_labels = np.expand_dims(train_set_labels, axis = 1)\n",
    "train_labels = np.expand_dims(train_labels_df.values, axis = 1)"
   ]
  },
  {
   "cell_type": "markdown",
   "metadata": {},
   "source": [
    "## Random Forest Regressor"
   ]
  },
  {
   "cell_type": "code",
   "execution_count": 59,
   "metadata": {},
   "outputs": [],
   "source": [
    "rf_param_grid = {\n",
    "    'bootstrap': [True, False], \n",
    "    'max_depth': [6, 7, 8, 9, 10], \n",
    "    'min_samples_leaf': [30, 35, 40, 45, 50],\n",
    "    'max_features': ['log2', 'sqrt'], \n",
    "    'n_estimators': [100 * x for x in range(5, 11)],\n",
    "    }"
   ]
  },
  {
   "cell_type": "code",
   "execution_count": 60,
   "metadata": {},
   "outputs": [
    {
     "name": "stdout",
     "output_type": "stream",
     "text": [
      "Fitting 3 folds for each of 10 candidates, totalling 30 fits\n",
      "[CV 1/3] END bootstrap=False, max_depth=6, max_features=log2, min_samples_leaf=35, n_estimators=900;, score=(train=0.695, test=0.777) total time=  10.4s\n",
      "[CV 2/3] END bootstrap=False, max_depth=6, max_features=log2, min_samples_leaf=35, n_estimators=900;, score=(train=0.743, test=0.677) total time=  10.6s\n",
      "[CV 3/3] END bootstrap=False, max_depth=6, max_features=log2, min_samples_leaf=35, n_estimators=900;, score=(train=0.756, test=0.636) total time=  10.3s\n",
      "[CV 1/3] END bootstrap=True, max_depth=9, max_features=log2, min_samples_leaf=50, n_estimators=800;, score=(train=0.712, test=0.785) total time=   7.7s\n",
      "[CV 2/3] END bootstrap=True, max_depth=9, max_features=log2, min_samples_leaf=50, n_estimators=800;, score=(train=0.760, test=0.679) total time=   7.6s\n",
      "[CV 3/3] END bootstrap=True, max_depth=9, max_features=log2, min_samples_leaf=50, n_estimators=800;, score=(train=0.772, test=0.643) total time=   7.6s\n",
      "[CV 1/3] END bootstrap=False, max_depth=9, max_features=sqrt, min_samples_leaf=40, n_estimators=700;, score=(train=0.729, test=0.786) total time=  10.9s\n",
      "[CV 2/3] END bootstrap=False, max_depth=9, max_features=sqrt, min_samples_leaf=40, n_estimators=700;, score=(train=0.777, test=0.681) total time=  11.0s\n",
      "[CV 3/3] END bootstrap=False, max_depth=9, max_features=sqrt, min_samples_leaf=40, n_estimators=700;, score=(train=0.785, test=0.643) total time=  11.2s\n",
      "[CV 1/3] END bootstrap=True, max_depth=7, max_features=log2, min_samples_leaf=35, n_estimators=500;, score=(train=0.704, test=0.783) total time=   4.5s\n",
      "[CV 2/3] END bootstrap=True, max_depth=7, max_features=log2, min_samples_leaf=35, n_estimators=500;, score=(train=0.752, test=0.679) total time=   4.4s\n",
      "[CV 3/3] END bootstrap=True, max_depth=7, max_features=log2, min_samples_leaf=35, n_estimators=500;, score=(train=0.764, test=0.641) total time=   4.4s\n",
      "[CV 1/3] END bootstrap=True, max_depth=6, max_features=sqrt, min_samples_leaf=40, n_estimators=800;, score=(train=0.692, test=0.778) total time=   6.3s\n",
      "[CV 2/3] END bootstrap=True, max_depth=6, max_features=sqrt, min_samples_leaf=40, n_estimators=800;, score=(train=0.740, test=0.676) total time=   6.2s\n",
      "[CV 3/3] END bootstrap=True, max_depth=6, max_features=sqrt, min_samples_leaf=40, n_estimators=800;, score=(train=0.752, test=0.637) total time=   6.1s\n",
      "[CV 1/3] END bootstrap=True, max_depth=9, max_features=sqrt, min_samples_leaf=45, n_estimators=500;, score=(train=0.715, test=0.786) total time=   5.0s\n",
      "[CV 2/3] END bootstrap=True, max_depth=9, max_features=sqrt, min_samples_leaf=45, n_estimators=500;, score=(train=0.762, test=0.680) total time=   4.8s\n",
      "[CV 3/3] END bootstrap=True, max_depth=9, max_features=sqrt, min_samples_leaf=45, n_estimators=500;, score=(train=0.774, test=0.643) total time=   4.8s\n",
      "[CV 1/3] END bootstrap=True, max_depth=6, max_features=log2, min_samples_leaf=50, n_estimators=1000;, score=(train=0.691, test=0.777) total time=   7.6s\n",
      "[CV 2/3] END bootstrap=True, max_depth=6, max_features=log2, min_samples_leaf=50, n_estimators=1000;, score=(train=0.740, test=0.677) total time=   7.6s\n",
      "[CV 3/3] END bootstrap=True, max_depth=6, max_features=log2, min_samples_leaf=50, n_estimators=1000;, score=(train=0.753, test=0.636) total time=   8.8s\n",
      "[CV 1/3] END bootstrap=True, max_depth=9, max_features=log2, min_samples_leaf=35, n_estimators=600;, score=(train=0.719, test=0.786) total time=   7.8s\n",
      "[CV 2/3] END bootstrap=True, max_depth=9, max_features=log2, min_samples_leaf=35, n_estimators=600;, score=(train=0.767, test=0.680) total time=   7.8s\n",
      "[CV 3/3] END bootstrap=True, max_depth=9, max_features=log2, min_samples_leaf=35, n_estimators=600;, score=(train=0.778, test=0.643) total time=   7.9s\n",
      "[CV 1/3] END bootstrap=False, max_depth=8, max_features=log2, min_samples_leaf=30, n_estimators=700;, score=(train=0.721, test=0.785) total time=  13.5s\n",
      "[CV 2/3] END bootstrap=False, max_depth=8, max_features=log2, min_samples_leaf=30, n_estimators=700;, score=(train=0.771, test=0.681) total time=  13.4s\n",
      "[CV 3/3] END bootstrap=False, max_depth=8, max_features=log2, min_samples_leaf=30, n_estimators=700;, score=(train=0.780, test=0.642) total time=  13.3s\n",
      "[CV 1/3] END bootstrap=True, max_depth=10, max_features=sqrt, min_samples_leaf=45, n_estimators=600;, score=(train=0.718, test=0.786) total time=   7.8s\n",
      "[CV 2/3] END bootstrap=True, max_depth=10, max_features=sqrt, min_samples_leaf=45, n_estimators=600;, score=(train=0.764, test=0.679) total time=   7.7s\n",
      "[CV 3/3] END bootstrap=True, max_depth=10, max_features=sqrt, min_samples_leaf=45, n_estimators=600;, score=(train=0.777, test=0.643) total time=   7.7s\n"
     ]
    },
    {
     "data": {
      "text/html": [
       "<style>#sk-container-id-5 {color: black;background-color: white;}#sk-container-id-5 pre{padding: 0;}#sk-container-id-5 div.sk-toggleable {background-color: white;}#sk-container-id-5 label.sk-toggleable__label {cursor: pointer;display: block;width: 100%;margin-bottom: 0;padding: 0.3em;box-sizing: border-box;text-align: center;}#sk-container-id-5 label.sk-toggleable__label-arrow:before {content: \"▸\";float: left;margin-right: 0.25em;color: #696969;}#sk-container-id-5 label.sk-toggleable__label-arrow:hover:before {color: black;}#sk-container-id-5 div.sk-estimator:hover label.sk-toggleable__label-arrow:before {color: black;}#sk-container-id-5 div.sk-toggleable__content {max-height: 0;max-width: 0;overflow: hidden;text-align: left;background-color: #f0f8ff;}#sk-container-id-5 div.sk-toggleable__content pre {margin: 0.2em;color: black;border-radius: 0.25em;background-color: #f0f8ff;}#sk-container-id-5 input.sk-toggleable__control:checked~div.sk-toggleable__content {max-height: 200px;max-width: 100%;overflow: auto;}#sk-container-id-5 input.sk-toggleable__control:checked~label.sk-toggleable__label-arrow:before {content: \"▾\";}#sk-container-id-5 div.sk-estimator input.sk-toggleable__control:checked~label.sk-toggleable__label {background-color: #d4ebff;}#sk-container-id-5 div.sk-label input.sk-toggleable__control:checked~label.sk-toggleable__label {background-color: #d4ebff;}#sk-container-id-5 input.sk-hidden--visually {border: 0;clip: rect(1px 1px 1px 1px);clip: rect(1px, 1px, 1px, 1px);height: 1px;margin: -1px;overflow: hidden;padding: 0;position: absolute;width: 1px;}#sk-container-id-5 div.sk-estimator {font-family: monospace;background-color: #f0f8ff;border: 1px dotted black;border-radius: 0.25em;box-sizing: border-box;margin-bottom: 0.5em;}#sk-container-id-5 div.sk-estimator:hover {background-color: #d4ebff;}#sk-container-id-5 div.sk-parallel-item::after {content: \"\";width: 100%;border-bottom: 1px solid gray;flex-grow: 1;}#sk-container-id-5 div.sk-label:hover label.sk-toggleable__label {background-color: #d4ebff;}#sk-container-id-5 div.sk-serial::before {content: \"\";position: absolute;border-left: 1px solid gray;box-sizing: border-box;top: 0;bottom: 0;left: 50%;z-index: 0;}#sk-container-id-5 div.sk-serial {display: flex;flex-direction: column;align-items: center;background-color: white;padding-right: 0.2em;padding-left: 0.2em;position: relative;}#sk-container-id-5 div.sk-item {position: relative;z-index: 1;}#sk-container-id-5 div.sk-parallel {display: flex;align-items: stretch;justify-content: center;background-color: white;position: relative;}#sk-container-id-5 div.sk-item::before, #sk-container-id-5 div.sk-parallel-item::before {content: \"\";position: absolute;border-left: 1px solid gray;box-sizing: border-box;top: 0;bottom: 0;left: 50%;z-index: -1;}#sk-container-id-5 div.sk-parallel-item {display: flex;flex-direction: column;z-index: 1;position: relative;background-color: white;}#sk-container-id-5 div.sk-parallel-item:first-child::after {align-self: flex-end;width: 50%;}#sk-container-id-5 div.sk-parallel-item:last-child::after {align-self: flex-start;width: 50%;}#sk-container-id-5 div.sk-parallel-item:only-child::after {width: 0;}#sk-container-id-5 div.sk-dashed-wrapped {border: 1px dashed gray;margin: 0 0.4em 0.5em 0.4em;box-sizing: border-box;padding-bottom: 0.4em;background-color: white;}#sk-container-id-5 div.sk-label label {font-family: monospace;font-weight: bold;display: inline-block;line-height: 1.2em;}#sk-container-id-5 div.sk-label-container {text-align: center;}#sk-container-id-5 div.sk-container {/* jupyter's `normalize.less` sets `[hidden] { display: none; }` but bootstrap.min.css set `[hidden] { display: none !important; }` so we also need the `!important` here to be able to override the default hidden behavior on the sphinx rendered scikit-learn.org. See: https://github.com/scikit-learn/scikit-learn/issues/21755 */display: inline-block !important;position: relative;}#sk-container-id-5 div.sk-text-repr-fallback {display: none;}</style><div id=\"sk-container-id-5\" class=\"sk-top-container\"><div class=\"sk-text-repr-fallback\"><pre>RandomizedSearchCV(cv=3, estimator=RandomForestRegressor(random_state=42),\n",
       "                   n_jobs=1,\n",
       "                   param_distributions={&#x27;bootstrap&#x27;: [True, False],\n",
       "                                        &#x27;max_depth&#x27;: [6, 7, 8, 9, 10],\n",
       "                                        &#x27;max_features&#x27;: [&#x27;log2&#x27;, &#x27;sqrt&#x27;],\n",
       "                                        &#x27;min_samples_leaf&#x27;: [30, 35, 40, 45,\n",
       "                                                             50],\n",
       "                                        &#x27;n_estimators&#x27;: [500, 600, 700, 800,\n",
       "                                                         900, 1000]},\n",
       "                   return_train_score=True, verbose=3)</pre><b>In a Jupyter environment, please rerun this cell to show the HTML representation or trust the notebook. <br />On GitHub, the HTML representation is unable to render, please try loading this page with nbviewer.org.</b></div><div class=\"sk-container\" hidden><div class=\"sk-item sk-dashed-wrapped\"><div class=\"sk-label-container\"><div class=\"sk-label sk-toggleable\"><input class=\"sk-toggleable__control sk-hidden--visually\" id=\"sk-estimator-id-13\" type=\"checkbox\" ><label for=\"sk-estimator-id-13\" class=\"sk-toggleable__label sk-toggleable__label-arrow\">RandomizedSearchCV</label><div class=\"sk-toggleable__content\"><pre>RandomizedSearchCV(cv=3, estimator=RandomForestRegressor(random_state=42),\n",
       "                   n_jobs=1,\n",
       "                   param_distributions={&#x27;bootstrap&#x27;: [True, False],\n",
       "                                        &#x27;max_depth&#x27;: [6, 7, 8, 9, 10],\n",
       "                                        &#x27;max_features&#x27;: [&#x27;log2&#x27;, &#x27;sqrt&#x27;],\n",
       "                                        &#x27;min_samples_leaf&#x27;: [30, 35, 40, 45,\n",
       "                                                             50],\n",
       "                                        &#x27;n_estimators&#x27;: [500, 600, 700, 800,\n",
       "                                                         900, 1000]},\n",
       "                   return_train_score=True, verbose=3)</pre></div></div></div><div class=\"sk-parallel\"><div class=\"sk-parallel-item\"><div class=\"sk-item\"><div class=\"sk-label-container\"><div class=\"sk-label sk-toggleable\"><input class=\"sk-toggleable__control sk-hidden--visually\" id=\"sk-estimator-id-14\" type=\"checkbox\" ><label for=\"sk-estimator-id-14\" class=\"sk-toggleable__label sk-toggleable__label-arrow\">estimator: RandomForestRegressor</label><div class=\"sk-toggleable__content\"><pre>RandomForestRegressor(random_state=42)</pre></div></div></div><div class=\"sk-serial\"><div class=\"sk-item\"><div class=\"sk-estimator sk-toggleable\"><input class=\"sk-toggleable__control sk-hidden--visually\" id=\"sk-estimator-id-15\" type=\"checkbox\" ><label for=\"sk-estimator-id-15\" class=\"sk-toggleable__label sk-toggleable__label-arrow\">RandomForestRegressor</label><div class=\"sk-toggleable__content\"><pre>RandomForestRegressor(random_state=42)</pre></div></div></div></div></div></div></div></div></div></div>"
      ],
      "text/plain": [
       "RandomizedSearchCV(cv=3, estimator=RandomForestRegressor(random_state=42),\n",
       "                   n_jobs=1,\n",
       "                   param_distributions={'bootstrap': [True, False],\n",
       "                                        'max_depth': [6, 7, 8, 9, 10],\n",
       "                                        'max_features': ['log2', 'sqrt'],\n",
       "                                        'min_samples_leaf': [30, 35, 40, 45,\n",
       "                                                             50],\n",
       "                                        'n_estimators': [500, 600, 700, 800,\n",
       "                                                         900, 1000]},\n",
       "                   return_train_score=True, verbose=3)"
      ]
     },
     "execution_count": 60,
     "metadata": {},
     "output_type": "execute_result"
    }
   ],
   "source": [
    "rf = RandomForestRegressor(random_state=42)\n",
    "rand_search_rf = RandomizedSearchCV(estimator = rf, param_distributions = rf_param_grid, cv = 3, n_jobs = 1, verbose = 3, return_train_score=True)\n",
    "rand_search_rf.fit(train_data_full_df.values[:,1:], train_labels_full_df.values.squeeze())\n",
    "rf_results = pd.DataFrame(rand_search_rf.cv_results_)"
   ]
  },
  {
   "cell_type": "code",
   "execution_count": 68,
   "metadata": {},
   "outputs": [
    {
     "ename": "NameError",
     "evalue": "name 'rand_search_rf' is not defined",
     "output_type": "error",
     "traceback": [
      "\u001b[0;31m---------------------------------------------------------------------------\u001b[0m",
      "\u001b[0;31mNameError\u001b[0m                                 Traceback (most recent call last)",
      "\u001b[1;32m/Users/henry/Documents/Imperial/Masters' Project/rul-prediction-fed/rul_prediction_ml/baseline-models.ipynb Cell 10\u001b[0m in \u001b[0;36m<cell line: 1>\u001b[0;34m()\u001b[0m\n\u001b[0;32m----> <a href='vscode-notebook-cell:/Users/henry/Documents/Imperial/Masters%27%20Project/rul-prediction-fed/rul_prediction_ml/baseline-models.ipynb#ch0000052?line=0'>1</a>\u001b[0m predictions_rf \u001b[39m=\u001b[39m rand_search_rf\u001b[39m.\u001b[39mpredict(test_at_break_df\u001b[39m.\u001b[39mvalues[:,\u001b[39m1\u001b[39m:])\u001b[39m.\u001b[39mround()\n\u001b[1;32m      <a href='vscode-notebook-cell:/Users/henry/Documents/Imperial/Masters%27%20Project/rul-prediction-fed/rul_prediction_ml/baseline-models.ipynb#ch0000052?line=1'>2</a>\u001b[0m \u001b[39mprint\u001b[39m(rand_search_rf\u001b[39m.\u001b[39mbest_params_)\n\u001b[1;32m      <a href='vscode-notebook-cell:/Users/henry/Documents/Imperial/Masters%27%20Project/rul-prediction-fed/rul_prediction_ml/baseline-models.ipynb#ch0000052?line=2'>3</a>\u001b[0m rmse \u001b[39m=\u001b[39m np\u001b[39m.\u001b[39msqrt(mean_squared_error(test_labels_at_break_df\u001b[39m.\u001b[39mvalues, predictions_rf))\n",
      "\u001b[0;31mNameError\u001b[0m: name 'rand_search_rf' is not defined"
     ]
    }
   ],
   "source": [
    "predictions_rf = rand_search_rf.predict(test_at_break_df.values[:,1:]).round()\n",
    "print(rand_search_rf.best_params_)\n",
    "rmse = np.sqrt(mean_squared_error(test_labels_at_break_df.values, predictions_rf))\n",
    "print(\"RMSE: \" + str(rmse)) "
   ]
  },
  {
   "cell_type": "markdown",
   "metadata": {},
   "source": [
    "## Gradient Boosting Regressor"
   ]
  },
  {
   "cell_type": "code",
   "execution_count": 66,
   "metadata": {},
   "outputs": [],
   "source": [
    "gb_params = {\n",
    "    'learning_rate': [0.001, 0.05, 0.1, 0.2, 0.3],\n",
    "    'n_estimators': [100 * x for x in range(5, 11)],\n",
    "    'subsample': [0.75, 0.85, 0.95, 1],\n",
    "    'min_samples_leaf': [30, 35, 40, 45, 50],\n",
    "}"
   ]
  },
  {
   "cell_type": "code",
   "execution_count": 67,
   "metadata": {},
   "outputs": [
    {
     "name": "stdout",
     "output_type": "stream",
     "text": [
      "Fitting 3 folds for each of 10 candidates, totalling 30 fits\n",
      "[CV 1/3] END learning_rate=0.2, min_samples_leaf=30, n_estimators=700, subsample=0.75;, score=(train=0.829, test=0.730) total time=  19.3s\n",
      "[CV 2/3] END learning_rate=0.2, min_samples_leaf=30, n_estimators=700, subsample=0.75;, score=(train=0.856, test=0.649) total time=  19.4s\n",
      "[CV 3/3] END learning_rate=0.2, min_samples_leaf=30, n_estimators=700, subsample=0.75;, score=(train=0.867, test=0.601) total time=  19.4s\n",
      "[CV 1/3] END learning_rate=0.2, min_samples_leaf=40, n_estimators=600, subsample=0.75;, score=(train=0.816, test=0.737) total time=  16.4s\n",
      "[CV 2/3] END learning_rate=0.2, min_samples_leaf=40, n_estimators=600, subsample=0.75;, score=(train=0.845, test=0.652) total time=  16.5s\n",
      "[CV 3/3] END learning_rate=0.2, min_samples_leaf=40, n_estimators=600, subsample=0.75;, score=(train=0.854, test=0.598) total time=  16.5s\n",
      "[CV 1/3] END learning_rate=0.001, min_samples_leaf=40, n_estimators=1000, subsample=1;, score=(train=0.571, test=0.673) total time=  35.4s\n",
      "[CV 2/3] END learning_rate=0.001, min_samples_leaf=40, n_estimators=1000, subsample=1;, score=(train=0.607, test=0.581) total time=  35.6s\n",
      "[CV 3/3] END learning_rate=0.001, min_samples_leaf=40, n_estimators=1000, subsample=1;, score=(train=0.632, test=0.516) total time=  35.6s\n",
      "[CV 1/3] END learning_rate=0.05, min_samples_leaf=40, n_estimators=700, subsample=0.85;, score=(train=0.754, test=0.774) total time=  21.6s\n",
      "[CV 2/3] END learning_rate=0.05, min_samples_leaf=40, n_estimators=700, subsample=0.85;, score=(train=0.797, test=0.669) total time=  21.4s\n",
      "[CV 3/3] END learning_rate=0.05, min_samples_leaf=40, n_estimators=700, subsample=0.85;, score=(train=0.808, test=0.622) total time=  21.4s\n",
      "[CV 1/3] END learning_rate=0.2, min_samples_leaf=35, n_estimators=600, subsample=0.85;, score=(train=0.818, test=0.739) total time=  18.3s\n",
      "[CV 2/3] END learning_rate=0.2, min_samples_leaf=35, n_estimators=600, subsample=0.85;, score=(train=0.847, test=0.652) total time=  18.4s\n",
      "[CV 3/3] END learning_rate=0.2, min_samples_leaf=35, n_estimators=600, subsample=0.85;, score=(train=0.858, test=0.597) total time=  18.5s\n",
      "[CV 1/3] END learning_rate=0.1, min_samples_leaf=35, n_estimators=600, subsample=1;, score=(train=0.773, test=0.767) total time=  20.9s\n",
      "[CV 2/3] END learning_rate=0.1, min_samples_leaf=35, n_estimators=600, subsample=1;, score=(train=0.813, test=0.666) total time=  21.0s\n",
      "[CV 3/3] END learning_rate=0.1, min_samples_leaf=35, n_estimators=600, subsample=1;, score=(train=0.822, test=0.613) total time=  21.1s\n",
      "[CV 1/3] END learning_rate=0.1, min_samples_leaf=40, n_estimators=500, subsample=0.95;, score=(train=0.767, test=0.769) total time=  16.9s\n",
      "[CV 2/3] END learning_rate=0.1, min_samples_leaf=40, n_estimators=500, subsample=0.95;, score=(train=0.808, test=0.665) total time=  16.9s\n",
      "[CV 3/3] END learning_rate=0.1, min_samples_leaf=40, n_estimators=500, subsample=0.95;, score=(train=0.819, test=0.617) total time=  17.0s\n",
      "[CV 1/3] END learning_rate=0.05, min_samples_leaf=30, n_estimators=500, subsample=0.85;, score=(train=0.743, test=0.778) total time=  15.6s\n",
      "[CV 2/3] END learning_rate=0.05, min_samples_leaf=30, n_estimators=500, subsample=0.85;, score=(train=0.788, test=0.670) total time=  15.4s\n",
      "[CV 3/3] END learning_rate=0.05, min_samples_leaf=30, n_estimators=500, subsample=0.85;, score=(train=0.800, test=0.627) total time=  15.4s\n",
      "[CV 1/3] END learning_rate=0.1, min_samples_leaf=40, n_estimators=700, subsample=1;, score=(train=0.780, test=0.763) total time=  24.6s\n",
      "[CV 2/3] END learning_rate=0.1, min_samples_leaf=40, n_estimators=700, subsample=1;, score=(train=0.818, test=0.663) total time=  24.6s\n",
      "[CV 3/3] END learning_rate=0.1, min_samples_leaf=40, n_estimators=700, subsample=1;, score=(train=0.828, test=0.612) total time=  24.6s\n",
      "[CV 1/3] END learning_rate=0.001, min_samples_leaf=40, n_estimators=700, subsample=0.85;, score=(train=0.491, test=0.583) total time=  21.5s\n",
      "[CV 2/3] END learning_rate=0.001, min_samples_leaf=40, n_estimators=700, subsample=0.85;, score=(train=0.521, test=0.501) total time=  21.6s\n",
      "[CV 3/3] END learning_rate=0.001, min_samples_leaf=40, n_estimators=700, subsample=0.85;, score=(train=0.544, test=0.442) total time=  21.8s\n"
     ]
    },
    {
     "data": {
      "text/html": [
       "<style>#sk-container-id-7 {color: black;background-color: white;}#sk-container-id-7 pre{padding: 0;}#sk-container-id-7 div.sk-toggleable {background-color: white;}#sk-container-id-7 label.sk-toggleable__label {cursor: pointer;display: block;width: 100%;margin-bottom: 0;padding: 0.3em;box-sizing: border-box;text-align: center;}#sk-container-id-7 label.sk-toggleable__label-arrow:before {content: \"▸\";float: left;margin-right: 0.25em;color: #696969;}#sk-container-id-7 label.sk-toggleable__label-arrow:hover:before {color: black;}#sk-container-id-7 div.sk-estimator:hover label.sk-toggleable__label-arrow:before {color: black;}#sk-container-id-7 div.sk-toggleable__content {max-height: 0;max-width: 0;overflow: hidden;text-align: left;background-color: #f0f8ff;}#sk-container-id-7 div.sk-toggleable__content pre {margin: 0.2em;color: black;border-radius: 0.25em;background-color: #f0f8ff;}#sk-container-id-7 input.sk-toggleable__control:checked~div.sk-toggleable__content {max-height: 200px;max-width: 100%;overflow: auto;}#sk-container-id-7 input.sk-toggleable__control:checked~label.sk-toggleable__label-arrow:before {content: \"▾\";}#sk-container-id-7 div.sk-estimator input.sk-toggleable__control:checked~label.sk-toggleable__label {background-color: #d4ebff;}#sk-container-id-7 div.sk-label input.sk-toggleable__control:checked~label.sk-toggleable__label {background-color: #d4ebff;}#sk-container-id-7 input.sk-hidden--visually {border: 0;clip: rect(1px 1px 1px 1px);clip: rect(1px, 1px, 1px, 1px);height: 1px;margin: -1px;overflow: hidden;padding: 0;position: absolute;width: 1px;}#sk-container-id-7 div.sk-estimator {font-family: monospace;background-color: #f0f8ff;border: 1px dotted black;border-radius: 0.25em;box-sizing: border-box;margin-bottom: 0.5em;}#sk-container-id-7 div.sk-estimator:hover {background-color: #d4ebff;}#sk-container-id-7 div.sk-parallel-item::after {content: \"\";width: 100%;border-bottom: 1px solid gray;flex-grow: 1;}#sk-container-id-7 div.sk-label:hover label.sk-toggleable__label {background-color: #d4ebff;}#sk-container-id-7 div.sk-serial::before {content: \"\";position: absolute;border-left: 1px solid gray;box-sizing: border-box;top: 0;bottom: 0;left: 50%;z-index: 0;}#sk-container-id-7 div.sk-serial {display: flex;flex-direction: column;align-items: center;background-color: white;padding-right: 0.2em;padding-left: 0.2em;position: relative;}#sk-container-id-7 div.sk-item {position: relative;z-index: 1;}#sk-container-id-7 div.sk-parallel {display: flex;align-items: stretch;justify-content: center;background-color: white;position: relative;}#sk-container-id-7 div.sk-item::before, #sk-container-id-7 div.sk-parallel-item::before {content: \"\";position: absolute;border-left: 1px solid gray;box-sizing: border-box;top: 0;bottom: 0;left: 50%;z-index: -1;}#sk-container-id-7 div.sk-parallel-item {display: flex;flex-direction: column;z-index: 1;position: relative;background-color: white;}#sk-container-id-7 div.sk-parallel-item:first-child::after {align-self: flex-end;width: 50%;}#sk-container-id-7 div.sk-parallel-item:last-child::after {align-self: flex-start;width: 50%;}#sk-container-id-7 div.sk-parallel-item:only-child::after {width: 0;}#sk-container-id-7 div.sk-dashed-wrapped {border: 1px dashed gray;margin: 0 0.4em 0.5em 0.4em;box-sizing: border-box;padding-bottom: 0.4em;background-color: white;}#sk-container-id-7 div.sk-label label {font-family: monospace;font-weight: bold;display: inline-block;line-height: 1.2em;}#sk-container-id-7 div.sk-label-container {text-align: center;}#sk-container-id-7 div.sk-container {/* jupyter's `normalize.less` sets `[hidden] { display: none; }` but bootstrap.min.css set `[hidden] { display: none !important; }` so we also need the `!important` here to be able to override the default hidden behavior on the sphinx rendered scikit-learn.org. See: https://github.com/scikit-learn/scikit-learn/issues/21755 */display: inline-block !important;position: relative;}#sk-container-id-7 div.sk-text-repr-fallback {display: none;}</style><div id=\"sk-container-id-7\" class=\"sk-top-container\"><div class=\"sk-text-repr-fallback\"><pre>RandomizedSearchCV(cv=3, estimator=GradientBoostingRegressor(), n_jobs=1,\n",
       "                   param_distributions={&#x27;learning_rate&#x27;: [0.001, 0.05, 0.1, 0.2,\n",
       "                                                          0.3],\n",
       "                                        &#x27;min_samples_leaf&#x27;: [30, 35, 40, 45,\n",
       "                                                             50],\n",
       "                                        &#x27;n_estimators&#x27;: [500, 600, 700, 800,\n",
       "                                                         900, 1000],\n",
       "                                        &#x27;subsample&#x27;: [0.75, 0.85, 0.95, 1]},\n",
       "                   return_train_score=True, verbose=3)</pre><b>In a Jupyter environment, please rerun this cell to show the HTML representation or trust the notebook. <br />On GitHub, the HTML representation is unable to render, please try loading this page with nbviewer.org.</b></div><div class=\"sk-container\" hidden><div class=\"sk-item sk-dashed-wrapped\"><div class=\"sk-label-container\"><div class=\"sk-label sk-toggleable\"><input class=\"sk-toggleable__control sk-hidden--visually\" id=\"sk-estimator-id-17\" type=\"checkbox\" ><label for=\"sk-estimator-id-17\" class=\"sk-toggleable__label sk-toggleable__label-arrow\">RandomizedSearchCV</label><div class=\"sk-toggleable__content\"><pre>RandomizedSearchCV(cv=3, estimator=GradientBoostingRegressor(), n_jobs=1,\n",
       "                   param_distributions={&#x27;learning_rate&#x27;: [0.001, 0.05, 0.1, 0.2,\n",
       "                                                          0.3],\n",
       "                                        &#x27;min_samples_leaf&#x27;: [30, 35, 40, 45,\n",
       "                                                             50],\n",
       "                                        &#x27;n_estimators&#x27;: [500, 600, 700, 800,\n",
       "                                                         900, 1000],\n",
       "                                        &#x27;subsample&#x27;: [0.75, 0.85, 0.95, 1]},\n",
       "                   return_train_score=True, verbose=3)</pre></div></div></div><div class=\"sk-parallel\"><div class=\"sk-parallel-item\"><div class=\"sk-item\"><div class=\"sk-label-container\"><div class=\"sk-label sk-toggleable\"><input class=\"sk-toggleable__control sk-hidden--visually\" id=\"sk-estimator-id-18\" type=\"checkbox\" ><label for=\"sk-estimator-id-18\" class=\"sk-toggleable__label sk-toggleable__label-arrow\">estimator: GradientBoostingRegressor</label><div class=\"sk-toggleable__content\"><pre>GradientBoostingRegressor()</pre></div></div></div><div class=\"sk-serial\"><div class=\"sk-item\"><div class=\"sk-estimator sk-toggleable\"><input class=\"sk-toggleable__control sk-hidden--visually\" id=\"sk-estimator-id-19\" type=\"checkbox\" ><label for=\"sk-estimator-id-19\" class=\"sk-toggleable__label sk-toggleable__label-arrow\">GradientBoostingRegressor</label><div class=\"sk-toggleable__content\"><pre>GradientBoostingRegressor()</pre></div></div></div></div></div></div></div></div></div></div>"
      ],
      "text/plain": [
       "RandomizedSearchCV(cv=3, estimator=GradientBoostingRegressor(), n_jobs=1,\n",
       "                   param_distributions={'learning_rate': [0.001, 0.05, 0.1, 0.2,\n",
       "                                                          0.3],\n",
       "                                        'min_samples_leaf': [30, 35, 40, 45,\n",
       "                                                             50],\n",
       "                                        'n_estimators': [500, 600, 700, 800,\n",
       "                                                         900, 1000],\n",
       "                                        'subsample': [0.75, 0.85, 0.95, 1]},\n",
       "                   return_train_score=True, verbose=3)"
      ]
     },
     "execution_count": 67,
     "metadata": {},
     "output_type": "execute_result"
    }
   ],
   "source": [
    "gb = GradientBoostingRegressor()\n",
    "rand_search_gb = RandomizedSearchCV(estimator = gb, param_distributions = gb_params, cv = 3, n_jobs = 1, verbose = 3, return_train_score=True)\n",
    "rand_search_gb.fit(train_data_full_df.values[:,1:], train_labels_full_df.values.squeeze())"
   ]
  },
  {
   "cell_type": "code",
   "execution_count": 69,
   "metadata": {},
   "outputs": [
    {
     "name": "stdout",
     "output_type": "stream",
     "text": [
      "{'subsample': 0.85, 'n_estimators': 500, 'min_samples_leaf': 30, 'learning_rate': 0.05}\n",
      "RMSE: 31.969985924300936\n"
     ]
    }
   ],
   "source": [
    "predictions_gb = rand_search_gb.predict(test_at_break_df.values[:,1:]).round()\n",
    "print(rand_search_gb.best_params_)\n",
    "rmse = np.sqrt(mean_squared_error(test_labels_at_break_df.values, predictions_gb))\n",
    "print(\"RMSE: \" + str(rmse)) "
   ]
  },
  {
   "cell_type": "markdown",
   "metadata": {},
   "source": [
    "## Support Vector Regressor"
   ]
  },
  {
   "cell_type": "code",
   "execution_count": 70,
   "metadata": {},
   "outputs": [],
   "source": [
    "svmr_params = {\n",
    "    'kernel': ['rbf', 'linear', 'poly'],\n",
    "    'C': [1, 2, 5, 10],\n",
    "    'epsilon': [0.1 * i for i in range(1, 6)]\n",
    "}"
   ]
  },
  {
   "cell_type": "code",
   "execution_count": 71,
   "metadata": {},
   "outputs": [
    {
     "name": "stdout",
     "output_type": "stream",
     "text": [
      "Fitting 3 folds for each of 10 candidates, totalling 30 fits\n",
      "[CV 1/3] END C=1, epsilon=0.2, kernel=rbf;, score=(train=0.551, test=0.736) total time=  12.3s\n",
      "[CV 2/3] END C=1, epsilon=0.2, kernel=rbf;, score=(train=0.586, test=0.618) total time=  12.3s\n",
      "[CV 3/3] END C=1, epsilon=0.2, kernel=rbf;, score=(train=0.666, test=0.436) total time=  12.2s\n",
      "[CV 1/3] END C=2, epsilon=0.2, kernel=poly;, score=(train=0.267, test=0.367) total time=   5.7s\n",
      "[CV 2/3] END C=2, epsilon=0.2, kernel=poly;, score=(train=0.279, test=0.320) total time=   5.7s\n",
      "[CV 3/3] END C=2, epsilon=0.2, kernel=poly;, score=(train=0.352, test=-0.336) total time=   5.7s\n",
      "[CV 1/3] END C=1, epsilon=0.4, kernel=poly;, score=(train=0.259, test=0.350) total time=   5.6s\n",
      "[CV 2/3] END C=1, epsilon=0.4, kernel=poly;, score=(train=0.274, test=0.313) total time=   5.6s\n",
      "[CV 3/3] END C=1, epsilon=0.4, kernel=poly;, score=(train=0.345, test=-0.391) total time=   5.7s\n",
      "[CV 1/3] END C=5, epsilon=0.4, kernel=linear;, score=(train=0.601, test=0.765) total time= 1.4min\n",
      "[CV 2/3] END C=5, epsilon=0.4, kernel=linear;, score=(train=0.657, test=0.622) total time= 1.4min\n",
      "[CV 3/3] END C=5, epsilon=0.4, kernel=linear;, score=(train=0.700, test=0.485) total time= 1.2min\n",
      "[CV 1/3] END C=5, epsilon=0.1, kernel=rbf;, score=(train=0.605, test=0.796) total time=  12.2s\n",
      "[CV 2/3] END C=5, epsilon=0.1, kernel=rbf;, score=(train=0.649, test=0.656) total time=  12.3s\n",
      "[CV 3/3] END C=5, epsilon=0.1, kernel=rbf;, score=(train=0.714, test=0.510) total time=  10.8s\n",
      "[CV 1/3] END C=2, epsilon=0.5, kernel=rbf;, score=(train=0.569, test=0.757) total time=   9.3s\n",
      "[CV 2/3] END C=2, epsilon=0.5, kernel=rbf;, score=(train=0.606, test=0.631) total time=   9.4s\n",
      "[CV 3/3] END C=2, epsilon=0.5, kernel=rbf;, score=(train=0.684, test=0.460) total time= 2.1min\n",
      "[CV 1/3] END C=10, epsilon=0.4, kernel=rbf;, score=(train=0.628, test=0.816) total time= 1.0min\n",
      "[CV 2/3] END C=10, epsilon=0.4, kernel=rbf;, score=(train=0.678, test=0.671) total time=   9.3s\n",
      "[CV 3/3] END C=10, epsilon=0.4, kernel=rbf;, score=(train=0.730, test=0.541) total time=   9.2s\n",
      "[CV 1/3] END C=5, epsilon=0.1, kernel=poly;, score=(train=0.273, test=0.377) total time=   4.4s\n",
      "[CV 2/3] END C=5, epsilon=0.1, kernel=poly;, score=(train=0.278, test=0.322) total time=   4.6s\n",
      "[CV 3/3] END C=5, epsilon=0.1, kernel=poly;, score=(train=0.352, test=-0.294) total time=   4.6s\n",
      "[CV 1/3] END C=10, epsilon=0.30000000000000004, kernel=linear;, score=(train=0.601, test=0.764) total time= 2.0min\n",
      "[CV 2/3] END C=10, epsilon=0.30000000000000004, kernel=linear;, score=(train=0.656, test=0.621) total time= 2.1min\n",
      "[CV 3/3] END C=10, epsilon=0.30000000000000004, kernel=linear;, score=(train=0.700, test=0.485) total time= 1.9min\n",
      "[CV 1/3] END C=10, epsilon=0.5, kernel=poly;, score=(train=0.273, test=0.373) total time=   4.6s\n",
      "[CV 2/3] END C=10, epsilon=0.5, kernel=poly;, score=(train=0.280, test=0.320) total time=   4.6s\n",
      "[CV 3/3] END C=10, epsilon=0.5, kernel=poly;, score=(train=0.351, test=-0.294) total time=   4.6s\n"
     ]
    },
    {
     "data": {
      "text/html": [
       "<style>#sk-container-id-8 {color: black;background-color: white;}#sk-container-id-8 pre{padding: 0;}#sk-container-id-8 div.sk-toggleable {background-color: white;}#sk-container-id-8 label.sk-toggleable__label {cursor: pointer;display: block;width: 100%;margin-bottom: 0;padding: 0.3em;box-sizing: border-box;text-align: center;}#sk-container-id-8 label.sk-toggleable__label-arrow:before {content: \"▸\";float: left;margin-right: 0.25em;color: #696969;}#sk-container-id-8 label.sk-toggleable__label-arrow:hover:before {color: black;}#sk-container-id-8 div.sk-estimator:hover label.sk-toggleable__label-arrow:before {color: black;}#sk-container-id-8 div.sk-toggleable__content {max-height: 0;max-width: 0;overflow: hidden;text-align: left;background-color: #f0f8ff;}#sk-container-id-8 div.sk-toggleable__content pre {margin: 0.2em;color: black;border-radius: 0.25em;background-color: #f0f8ff;}#sk-container-id-8 input.sk-toggleable__control:checked~div.sk-toggleable__content {max-height: 200px;max-width: 100%;overflow: auto;}#sk-container-id-8 input.sk-toggleable__control:checked~label.sk-toggleable__label-arrow:before {content: \"▾\";}#sk-container-id-8 div.sk-estimator input.sk-toggleable__control:checked~label.sk-toggleable__label {background-color: #d4ebff;}#sk-container-id-8 div.sk-label input.sk-toggleable__control:checked~label.sk-toggleable__label {background-color: #d4ebff;}#sk-container-id-8 input.sk-hidden--visually {border: 0;clip: rect(1px 1px 1px 1px);clip: rect(1px, 1px, 1px, 1px);height: 1px;margin: -1px;overflow: hidden;padding: 0;position: absolute;width: 1px;}#sk-container-id-8 div.sk-estimator {font-family: monospace;background-color: #f0f8ff;border: 1px dotted black;border-radius: 0.25em;box-sizing: border-box;margin-bottom: 0.5em;}#sk-container-id-8 div.sk-estimator:hover {background-color: #d4ebff;}#sk-container-id-8 div.sk-parallel-item::after {content: \"\";width: 100%;border-bottom: 1px solid gray;flex-grow: 1;}#sk-container-id-8 div.sk-label:hover label.sk-toggleable__label {background-color: #d4ebff;}#sk-container-id-8 div.sk-serial::before {content: \"\";position: absolute;border-left: 1px solid gray;box-sizing: border-box;top: 0;bottom: 0;left: 50%;z-index: 0;}#sk-container-id-8 div.sk-serial {display: flex;flex-direction: column;align-items: center;background-color: white;padding-right: 0.2em;padding-left: 0.2em;position: relative;}#sk-container-id-8 div.sk-item {position: relative;z-index: 1;}#sk-container-id-8 div.sk-parallel {display: flex;align-items: stretch;justify-content: center;background-color: white;position: relative;}#sk-container-id-8 div.sk-item::before, #sk-container-id-8 div.sk-parallel-item::before {content: \"\";position: absolute;border-left: 1px solid gray;box-sizing: border-box;top: 0;bottom: 0;left: 50%;z-index: -1;}#sk-container-id-8 div.sk-parallel-item {display: flex;flex-direction: column;z-index: 1;position: relative;background-color: white;}#sk-container-id-8 div.sk-parallel-item:first-child::after {align-self: flex-end;width: 50%;}#sk-container-id-8 div.sk-parallel-item:last-child::after {align-self: flex-start;width: 50%;}#sk-container-id-8 div.sk-parallel-item:only-child::after {width: 0;}#sk-container-id-8 div.sk-dashed-wrapped {border: 1px dashed gray;margin: 0 0.4em 0.5em 0.4em;box-sizing: border-box;padding-bottom: 0.4em;background-color: white;}#sk-container-id-8 div.sk-label label {font-family: monospace;font-weight: bold;display: inline-block;line-height: 1.2em;}#sk-container-id-8 div.sk-label-container {text-align: center;}#sk-container-id-8 div.sk-container {/* jupyter's `normalize.less` sets `[hidden] { display: none; }` but bootstrap.min.css set `[hidden] { display: none !important; }` so we also need the `!important` here to be able to override the default hidden behavior on the sphinx rendered scikit-learn.org. See: https://github.com/scikit-learn/scikit-learn/issues/21755 */display: inline-block !important;position: relative;}#sk-container-id-8 div.sk-text-repr-fallback {display: none;}</style><div id=\"sk-container-id-8\" class=\"sk-top-container\"><div class=\"sk-text-repr-fallback\"><pre>RandomizedSearchCV(cv=3, estimator=SVR(), n_jobs=1,\n",
       "                   param_distributions={&#x27;C&#x27;: [1, 2, 5, 10],\n",
       "                                        &#x27;epsilon&#x27;: [0.1, 0.2,\n",
       "                                                    0.30000000000000004, 0.4,\n",
       "                                                    0.5],\n",
       "                                        &#x27;kernel&#x27;: [&#x27;rbf&#x27;, &#x27;linear&#x27;, &#x27;poly&#x27;]},\n",
       "                   return_train_score=True, verbose=3)</pre><b>In a Jupyter environment, please rerun this cell to show the HTML representation or trust the notebook. <br />On GitHub, the HTML representation is unable to render, please try loading this page with nbviewer.org.</b></div><div class=\"sk-container\" hidden><div class=\"sk-item sk-dashed-wrapped\"><div class=\"sk-label-container\"><div class=\"sk-label sk-toggleable\"><input class=\"sk-toggleable__control sk-hidden--visually\" id=\"sk-estimator-id-20\" type=\"checkbox\" ><label for=\"sk-estimator-id-20\" class=\"sk-toggleable__label sk-toggleable__label-arrow\">RandomizedSearchCV</label><div class=\"sk-toggleable__content\"><pre>RandomizedSearchCV(cv=3, estimator=SVR(), n_jobs=1,\n",
       "                   param_distributions={&#x27;C&#x27;: [1, 2, 5, 10],\n",
       "                                        &#x27;epsilon&#x27;: [0.1, 0.2,\n",
       "                                                    0.30000000000000004, 0.4,\n",
       "                                                    0.5],\n",
       "                                        &#x27;kernel&#x27;: [&#x27;rbf&#x27;, &#x27;linear&#x27;, &#x27;poly&#x27;]},\n",
       "                   return_train_score=True, verbose=3)</pre></div></div></div><div class=\"sk-parallel\"><div class=\"sk-parallel-item\"><div class=\"sk-item\"><div class=\"sk-label-container\"><div class=\"sk-label sk-toggleable\"><input class=\"sk-toggleable__control sk-hidden--visually\" id=\"sk-estimator-id-21\" type=\"checkbox\" ><label for=\"sk-estimator-id-21\" class=\"sk-toggleable__label sk-toggleable__label-arrow\">estimator: SVR</label><div class=\"sk-toggleable__content\"><pre>SVR()</pre></div></div></div><div class=\"sk-serial\"><div class=\"sk-item\"><div class=\"sk-estimator sk-toggleable\"><input class=\"sk-toggleable__control sk-hidden--visually\" id=\"sk-estimator-id-22\" type=\"checkbox\" ><label for=\"sk-estimator-id-22\" class=\"sk-toggleable__label sk-toggleable__label-arrow\">SVR</label><div class=\"sk-toggleable__content\"><pre>SVR()</pre></div></div></div></div></div></div></div></div></div></div>"
      ],
      "text/plain": [
       "RandomizedSearchCV(cv=3, estimator=SVR(), n_jobs=1,\n",
       "                   param_distributions={'C': [1, 2, 5, 10],\n",
       "                                        'epsilon': [0.1, 0.2,\n",
       "                                                    0.30000000000000004, 0.4,\n",
       "                                                    0.5],\n",
       "                                        'kernel': ['rbf', 'linear', 'poly']},\n",
       "                   return_train_score=True, verbose=3)"
      ]
     },
     "execution_count": 71,
     "metadata": {},
     "output_type": "execute_result"
    }
   ],
   "source": [
    "svmr = SVR()\n",
    "rand_search_svmr = RandomizedSearchCV(estimator = svmr, param_distributions = svmr_params, cv = 3, n_jobs = 1, verbose = 3, return_train_score=True)\n",
    "rand_search_svmr.fit(train_data_full_df.values[:,1:], train_labels_full_df.values.squeeze())"
   ]
  },
  {
   "cell_type": "code",
   "execution_count": 72,
   "metadata": {},
   "outputs": [
    {
     "name": "stdout",
     "output_type": "stream",
     "text": [
      "{'kernel': 'rbf', 'epsilon': 0.4, 'C': 10}\n",
      "RMSE: 33.32101439032131\n"
     ]
    }
   ],
   "source": [
    "predictions_svmr = rand_search_svmr.predict(test_at_break_df.values[:,1:]).round()\n",
    "print(rand_search_svmr.best_params_)\n",
    "rmse = np.sqrt(mean_squared_error(test_labels_at_break_df.values, predictions_svmr))\n",
    "print(\"RMSE: \" + str(rmse)) "
   ]
  },
  {
   "cell_type": "markdown",
   "metadata": {},
   "source": [
    "## Multi Layer Perceptron - Neural Network"
   ]
  },
  {
   "cell_type": "code",
   "execution_count": 7,
   "metadata": {},
   "outputs": [],
   "source": [
    "window_length = 20\n",
    "mlp_tr_data, mlp_tr_labels, mlp_val_data, mlp_val_labels = get_windows(train_data_df, train_labels_df, window_length, mode='train')\n",
    "mlp_test_data, mlp_test_labels = get_windows(test_data_df, test_labels_df, 20, mode = 'test')\n",
    "\n",
    "mlp_tr_data = mlp_tr_data.reshape(mlp_tr_data.shape[0], -1)\n",
    "mlp_val_data = mlp_val_data.reshape(mlp_val_data.shape[0], -1)\n",
    "mlp_test_data = mlp_test_data.reshape(mlp_test_data.shape[0], -1)\n",
    "\n",
    "mlp_tr_labels = np.expand_dims(mlp_tr_labels, axis=1)\n",
    "mlp_val_labels = np.expand_dims(mlp_val_labels, axis=1)\n",
    "mlp_test_labels = np.expand_dims(mlp_test_labels, axis=1)"
   ]
  },
  {
   "cell_type": "code",
   "execution_count": 9,
   "metadata": {},
   "outputs": [
    {
     "name": "stdout",
     "output_type": "stream",
     "text": [
      "INFO:tensorflow:Reloading Oracle from existing project baseline_models/mlp/oracle.json\n",
      "Metal device set to: Apple M1 Max\n",
      "\n",
      "systemMemory: 32.00 GB\n",
      "maxCacheSize: 10.67 GB\n",
      "\n"
     ]
    },
    {
     "name": "stderr",
     "output_type": "stream",
     "text": [
      "2022-07-27 11:57:50.834824: I tensorflow/core/common_runtime/pluggable_device/pluggable_device_factory.cc:305] Could not identify NUMA node of platform GPU ID 0, defaulting to 0. Your kernel may not have been built with NUMA support.\n",
      "2022-07-27 11:57:50.834965: I tensorflow/core/common_runtime/pluggable_device/pluggable_device_factory.cc:271] Created TensorFlow device (/job:localhost/replica:0/task:0/device:GPU:0 with 0 MB memory) -> physical PluggableDevice (device: 0, name: METAL, pci bus id: <undefined>)\n"
     ]
    }
   ],
   "source": [
    "def mlp_model_builder(hp):\n",
    "\n",
    "    hp_units1 = hp.Int('units1', min_value=32, max_value=128, step=32)\n",
    "    hp_units2 = hp.Int('units2', min_value=32, max_value=128, step=32)\n",
    "    hp_units3 = hp.Int('units3', min_value=32, max_value=128, step=32)\n",
    "\n",
    "    hp_dropout = hp.Choice('dropout_rate', values=[0.1, 0.2, 0.3, 0.4])\n",
    "    hp_learning_rate = hp.Choice('learning_rate', values=[0.001, 0.005, 0.01, 0.05])\n",
    "\n",
    "    mlp_model = Sequential()\n",
    "    mlp_model.add(Dense(units = hp_units1, activation = 'relu', input_dim = mlp_tr_data.shape[1]))\n",
    "    mlp_model.add(Dropout(hp_dropout))\n",
    "    mlp_model.add(Dense(units = hp_units2, activation = 'relu'))\n",
    "    mlp_model.add(Dropout(hp_dropout))\n",
    "    mlp_model.add(Dense(units = hp_units3 , activation = 'relu'))\n",
    "    mlp_model.add(Dropout(hp_dropout))\n",
    "    mlp_model.add(Dense(1, activation = 'relu'))\n",
    "\n",
    "    mlp_model.compile(optimizer=keras.optimizers.Adam(learning_rate = hp_learning_rate),\n",
    "                loss=keras.losses.MeanSquaredError())\n",
    "\n",
    "    return mlp_model\n",
    "\n",
    "mlp_tuner = kt.BayesianOptimization(mlp_model_builder,\n",
    "                                    objective='val_loss',\n",
    "                                    max_trials = 9,\n",
    "                                    directory='baseline_models',\n",
    "                                    project_name='mlp')"
   ]
  },
  {
   "cell_type": "code",
   "execution_count": 10,
   "metadata": {},
   "outputs": [
    {
     "name": "stdout",
     "output_type": "stream",
     "text": [
      "Trial 2 Complete [00h 01m 25s]\n",
      "val_loss: 1560.2862548828125\n",
      "\n",
      "Best val_loss So Far: 1560.2862548828125\n",
      "Total elapsed time: 00h 02m 52s\n",
      "\n",
      "Search: Running Trial #3\n",
      "\n",
      "Value             |Best Value So Far |Hyperparameter\n",
      "128               |128               |units1\n",
      "64                |128               |units2\n",
      "32                |64                |units3\n",
      "0.4               |0.4               |dropout_rate\n",
      "0.001             |0.05              |learning_rate\n",
      "\n",
      "Epoch 1/100\n",
      "  1/123 [..............................] - ETA: 39s - loss: 11998.3828"
     ]
    },
    {
     "name": "stderr",
     "output_type": "stream",
     "text": [
      "2022-07-27 12:00:48.255836: I tensorflow/core/grappler/optimizers/custom_graph_optimizer_registry.cc:113] Plugin optimizer for device_type GPU is enabled.\n"
     ]
    },
    {
     "name": "stdout",
     "output_type": "stream",
     "text": [
      "  6/123 [>.............................] - ETA: 1s - loss: 11696.4639 WARNING:tensorflow:Callback method `on_train_batch_end` is slow compared to the batch time (batch time: 0.0081s vs `on_train_batch_end` time: 0.0097s). Check your callbacks.\n",
      "123/123 [==============================] - 2s 12ms/step - loss: 4706.2905 - val_loss: 1661.2532\n",
      "Epoch 2/100\n",
      "  1/123 [..............................] - ETA: 0s - loss: 3184.5486"
     ]
    },
    {
     "name": "stderr",
     "output_type": "stream",
     "text": [
      "2022-07-27 12:00:49.769932: I tensorflow/core/grappler/optimizers/custom_graph_optimizer_registry.cc:113] Plugin optimizer for device_type GPU is enabled.\n"
     ]
    },
    {
     "name": "stdout",
     "output_type": "stream",
     "text": [
      "123/123 [==============================] - 1s 7ms/step - loss: 2315.0576 - val_loss: 1500.6592\n",
      "Epoch 3/100\n",
      "123/123 [==============================] - 1s 7ms/step - loss: 1895.9395 - val_loss: 918.3068\n",
      "Epoch 4/100\n",
      "123/123 [==============================] - 1s 7ms/step - loss: 1723.7787 - val_loss: 1198.5342\n",
      "Epoch 5/100\n",
      "123/123 [==============================] - 1s 7ms/step - loss: 1588.9470 - val_loss: 1603.9802\n",
      "Epoch 6/100\n",
      "123/123 [==============================] - 1s 7ms/step - loss: 1500.2236 - val_loss: 1584.6609\n",
      "Epoch 7/100\n",
      "123/123 [==============================] - 1s 7ms/step - loss: 1397.9941 - val_loss: 1911.3866\n",
      "Epoch 8/100\n",
      "123/123 [==============================] - 1s 7ms/step - loss: 1359.5338 - val_loss: 1500.7694\n",
      "Epoch 9/100\n",
      "123/123 [==============================] - 1s 7ms/step - loss: 1298.6401 - val_loss: 1612.0178\n",
      "Epoch 10/100\n",
      "123/123 [==============================] - 1s 7ms/step - loss: 1294.6243 - val_loss: 1447.3007\n",
      "Epoch 11/100\n",
      "123/123 [==============================] - 1s 7ms/step - loss: 1269.1431 - val_loss: 1712.3048\n",
      "Epoch 12/100\n",
      "123/123 [==============================] - 1s 7ms/step - loss: 1284.5514 - val_loss: 1752.9918\n",
      "Epoch 13/100\n",
      "123/123 [==============================] - 1s 7ms/step - loss: 1226.9177 - val_loss: 1146.8801\n",
      "Epoch 14/100\n",
      "123/123 [==============================] - 1s 7ms/step - loss: 1204.6864 - val_loss: 1421.5732\n",
      "Epoch 15/100\n",
      "123/123 [==============================] - 1s 7ms/step - loss: 1186.8367 - val_loss: 1404.4725\n",
      "Epoch 16/100\n",
      "123/123 [==============================] - 1s 7ms/step - loss: 1173.4213 - val_loss: 1480.1829\n",
      "Epoch 17/100\n",
      "123/123 [==============================] - 1s 7ms/step - loss: 1177.0022 - val_loss: 1574.9757\n",
      "Epoch 18/100\n",
      "123/123 [==============================] - 1s 7ms/step - loss: 1171.6981 - val_loss: 1551.9934\n",
      "Epoch 19/100\n",
      "123/123 [==============================] - 1s 7ms/step - loss: 1207.9865 - val_loss: 1604.9969\n",
      "Epoch 20/100\n",
      "123/123 [==============================] - 1s 7ms/step - loss: 1165.1008 - val_loss: 1510.7506\n",
      "Epoch 21/100\n",
      "123/123 [==============================] - 1s 7ms/step - loss: 1150.9795 - val_loss: 1265.1096\n",
      "Epoch 22/100\n",
      "123/123 [==============================] - 1s 7ms/step - loss: 1133.1035 - val_loss: 1588.0459\n",
      "Epoch 23/100\n",
      "123/123 [==============================] - 1s 7ms/step - loss: 1159.0098 - val_loss: 1492.5804\n",
      "Epoch 24/100\n",
      "123/123 [==============================] - 1s 7ms/step - loss: 1141.1838 - val_loss: 1785.0598\n",
      "Epoch 25/100\n",
      "123/123 [==============================] - 1s 7ms/step - loss: 1118.5364 - val_loss: 1833.9183\n",
      "Epoch 26/100\n",
      "123/123 [==============================] - 1s 7ms/step - loss: 1133.4886 - val_loss: 1790.8668\n",
      "Epoch 27/100\n",
      "123/123 [==============================] - 1s 7ms/step - loss: 1123.0942 - val_loss: 1803.3008\n",
      "Epoch 28/100\n",
      "123/123 [==============================] - 1s 7ms/step - loss: 1129.9824 - val_loss: 1586.9835\n",
      "Epoch 29/100\n",
      "123/123 [==============================] - 1s 7ms/step - loss: 1089.4980 - val_loss: 1667.3131\n",
      "Epoch 30/100\n",
      "123/123 [==============================] - 1s 7ms/step - loss: 1102.1958 - val_loss: 1672.5413\n",
      "Epoch 31/100\n",
      "123/123 [==============================] - 1s 7ms/step - loss: 1101.4484 - val_loss: 1344.3759\n",
      "Epoch 32/100\n",
      "123/123 [==============================] - 1s 7ms/step - loss: 1122.6129 - val_loss: 2114.6350\n",
      "Epoch 33/100\n",
      "123/123 [==============================] - 1s 7ms/step - loss: 1125.3052 - val_loss: 1589.5029\n",
      "Epoch 34/100\n",
      "123/123 [==============================] - 1s 7ms/step - loss: 1111.4637 - val_loss: 1419.7316\n",
      "Epoch 35/100\n",
      "123/123 [==============================] - 1s 7ms/step - loss: 1080.8251 - val_loss: 1641.0349\n",
      "Epoch 36/100\n",
      "123/123 [==============================] - 1s 7ms/step - loss: 1083.2225 - val_loss: 1639.9423\n",
      "Epoch 37/100\n",
      "123/123 [==============================] - 1s 7ms/step - loss: 1081.8940 - val_loss: 1737.7474\n",
      "Epoch 38/100\n",
      "123/123 [==============================] - 1s 7ms/step - loss: 1061.6910 - val_loss: 1401.1599\n",
      "Epoch 39/100\n",
      "123/123 [==============================] - 1s 7ms/step - loss: 1098.5979 - val_loss: 1844.1598\n",
      "Epoch 40/100\n",
      "123/123 [==============================] - 1s 7ms/step - loss: 1071.3904 - val_loss: 1995.6620\n",
      "Epoch 41/100\n",
      "123/123 [==============================] - 1s 7ms/step - loss: 1072.3307 - val_loss: 1300.1725\n",
      "Epoch 42/100\n",
      "123/123 [==============================] - 1s 7ms/step - loss: 1051.6571 - val_loss: 1921.1642\n",
      "Epoch 43/100\n",
      "123/123 [==============================] - 1s 7ms/step - loss: 1065.9847 - val_loss: 1931.1932\n",
      "Epoch 44/100\n",
      "123/123 [==============================] - 1s 7ms/step - loss: 1030.0309 - val_loss: 1800.5123\n",
      "Epoch 45/100\n",
      "123/123 [==============================] - 1s 7ms/step - loss: 1041.7557 - val_loss: 2010.3160\n",
      "Epoch 46/100\n",
      "123/123 [==============================] - 1s 7ms/step - loss: 1059.9131 - val_loss: 2233.0647\n",
      "Epoch 47/100\n",
      "123/123 [==============================] - 1s 7ms/step - loss: 1028.9440 - val_loss: 2016.6289\n",
      "Epoch 48/100\n",
      "123/123 [==============================] - 1s 7ms/step - loss: 1051.4180 - val_loss: 1928.4392\n",
      "Epoch 49/100\n",
      "123/123 [==============================] - 1s 9ms/step - loss: 1042.0133 - val_loss: 1980.7781\n",
      "Epoch 50/100\n",
      "123/123 [==============================] - 1s 8ms/step - loss: 1039.0493 - val_loss: 1608.3042\n",
      "Epoch 51/100\n",
      "123/123 [==============================] - 1s 8ms/step - loss: 1034.0259 - val_loss: 1785.8026\n",
      "Epoch 52/100\n",
      "123/123 [==============================] - 1s 7ms/step - loss: 1041.7694 - val_loss: 1842.6589\n",
      "Epoch 53/100\n",
      "123/123 [==============================] - 1s 7ms/step - loss: 1076.0785 - val_loss: 1862.4558\n",
      "Epoch 54/100\n",
      "123/123 [==============================] - 1s 7ms/step - loss: 1035.1306 - val_loss: 1906.0844\n",
      "Epoch 55/100\n",
      "123/123 [==============================] - 1s 7ms/step - loss: 1013.9414 - val_loss: 1867.1558\n",
      "Epoch 56/100\n",
      "123/123 [==============================] - 1s 7ms/step - loss: 1038.1658 - val_loss: 1800.1481\n",
      "Epoch 57/100\n",
      "123/123 [==============================] - 1s 7ms/step - loss: 1023.5425 - val_loss: 2147.9624\n",
      "Epoch 58/100\n",
      "123/123 [==============================] - 1s 7ms/step - loss: 1021.3940 - val_loss: 1836.1691\n",
      "Epoch 59/100\n",
      "123/123 [==============================] - 1s 7ms/step - loss: 991.9836 - val_loss: 2143.1965\n",
      "Epoch 60/100\n",
      "123/123 [==============================] - 1s 7ms/step - loss: 990.5186 - val_loss: 1864.7158\n",
      "Epoch 61/100\n",
      "123/123 [==============================] - 1s 7ms/step - loss: 1011.2858 - val_loss: 2224.2407\n",
      "Epoch 62/100\n",
      "123/123 [==============================] - 1s 7ms/step - loss: 985.0973 - val_loss: 1992.7573\n",
      "Epoch 63/100\n",
      "123/123 [==============================] - 1s 7ms/step - loss: 995.4030 - val_loss: 2302.4077\n",
      "Epoch 64/100\n",
      "123/123 [==============================] - 1s 7ms/step - loss: 996.6832 - val_loss: 2101.8994\n",
      "Epoch 65/100\n",
      "123/123 [==============================] - 1s 7ms/step - loss: 978.9695 - val_loss: 2030.6326\n",
      "Epoch 66/100\n",
      "123/123 [==============================] - 1s 7ms/step - loss: 990.5591 - val_loss: 1890.2998\n",
      "Epoch 67/100\n",
      "123/123 [==============================] - 1s 7ms/step - loss: 976.2289 - val_loss: 2276.4932\n",
      "Epoch 68/100\n",
      "123/123 [==============================] - 1s 7ms/step - loss: 989.7916 - val_loss: 1913.3890\n",
      "Epoch 69/100\n",
      "123/123 [==============================] - 1s 7ms/step - loss: 1002.1594 - val_loss: 2076.5027\n",
      "Epoch 70/100\n",
      "112/123 [==========================>...] - ETA: 1s - loss: 980.0457"
     ]
    }
   ],
   "source": [
    "mlp_tuner.search(mlp_tr_data, mlp_tr_labels, epochs=100, validation_data = (mlp_val_data, mlp_val_labels), batch_size = 128)\n",
    "best_mlp_hps = mlp_tuner.get_best_hyperparameters(num_trials=1)[0]\n",
    "\n",
    "best_mlp_model = mlp_tuner.hypermodel.build(best_mlp_hps)\n",
    "mlp_history = best_mlp_model.fit(mlp_tr_data, mlp_tr_labels, epochs=100, validation_data = (mlp_val_data, mlp_val_labels), batch_size = 128)"
   ]
  },
  {
   "cell_type": "code",
   "execution_count": 50,
   "metadata": {},
   "outputs": [
    {
     "data": {
      "image/png": "[encoded data removed]",
      "text/plain": [
       "<Figure size 936x360 with 1 Axes>"
      ]
     },
     "metadata": {
      "needs_background": "light"
     },
     "output_type": "display_data"
    }
   ],
   "source": [
    "# PLOT TRAIN AND VALIDATION LOSS\n",
    "def plot_loss(fit_history):\n",
    "    plt.figure(figsize=(13,5))\n",
    "    plt.plot(range(1, len(fit_history.history['loss'])+1), fit_history.history['loss'], label='train')\n",
    "    plt.plot(range(1, len(fit_history.history['val_loss'])+1), fit_history.history['val_loss'], label='validate')\n",
    "    plt.xlabel('Epochs')\n",
    "    plt.ylabel('Loss')\n",
    "    plt.legend()\n",
    "    plt.show()\n",
    "\n",
    "plot_loss(mlp_history)"
   ]
  },
  {
   "cell_type": "code",
   "execution_count": 51,
   "metadata": {},
   "outputs": [],
   "source": [
    "# TESTING FUNCTION\n",
    "def testing(actual, pred, mode = 'Test'):\n",
    "    mse = mean_squared_error(actual, pred)\n",
    "    rmse = np.sqrt(mse)\n",
    "    variance = r2_score(actual, pred)\n",
    "    print(mode + ' set RMSE: ' + str(rmse) + ', R2: ' + str(variance))"
   ]
  },
  {
   "cell_type": "code",
   "execution_count": 52,
   "metadata": {},
   "outputs": [
    {
     "name": "stdout",
     "output_type": "stream",
     "text": [
      " 72/482 [===>..........................] - ETA: 0s"
     ]
    },
    {
     "name": "stderr",
     "output_type": "stream",
     "text": [
      "2022-07-27 00:18:23.356019: I tensorflow/core/grappler/optimizers/custom_graph_optimizer_registry.cc:113] Plugin optimizer for device_type GPU is enabled.\n"
     ]
    },
    {
     "name": "stdout",
     "output_type": "stream",
     "text": [
      "482/482 [==============================] - 1s 2ms/step\n",
      "Train set RMSE: 15.37380002321018, R2: 0.945183824869444\n",
      "4/4 [==============================] - 0s 2ms/step\n",
      "Test set RMSE: 40.9208608875001, R2: 0.030316559064948678\n"
     ]
    }
   ],
   "source": [
    "train_full_pred = best_mlp_model.predict(mlp_tr_data)\n",
    "testing(mlp_tr_labels, train_full_pred, 'Train')\n",
    "\n",
    "test_at_break_pred = best_mlp_model.predict(mlp_test_data)\n",
    "testing(mlp_test_labels, test_at_break_pred)"
   ]
  },
  {
   "cell_type": "markdown",
   "metadata": {},
   "source": [
    "## Convolutional Neural Network"
   ]
  },
  {
   "cell_type": "code",
   "execution_count": 135,
   "metadata": {},
   "outputs": [],
   "source": [
    "window_length = 20\n",
    "cnn_tr_data, cnn_tr_labels, cnn_val_data, cnn_val_labels = get_windows(train_data_df, train_labels_df, window_length, mode='train')\n",
    "cnn_test_data, cnn_test_labels = get_windows(test_data_df, test_labels_df, 20, mode = 'test')\n",
    "\n",
    "cnn_tr_labels = np.expand_dims(cnn_tr_labels, axis=1)\n",
    "cnn_val_labels = np.expand_dims(cnn_val_labels, axis=1)\n",
    "cnn_test_labels = np.expand_dims(cnn_test_labels, axis=1)"
   ]
  },
  {
   "cell_type": "markdown",
   "metadata": {},
   "source": [
    "### Model"
   ]
  },
  {
   "cell_type": "code",
   "execution_count": 136,
   "metadata": {},
   "outputs": [
    {
     "name": "stdout",
     "output_type": "stream",
     "text": [
      "Epoch 1/50\n",
      "  8/122 [>.............................] - ETA: 0s - loss: 7681.7368 "
     ]
    },
    {
     "name": "stderr",
     "output_type": "stream",
     "text": [
      "2022-07-26 17:33:09.632991: I tensorflow/core/grappler/optimizers/custom_graph_optimizer_registry.cc:113] Plugin optimizer for device_type GPU is enabled.\n"
     ]
    },
    {
     "name": "stdout",
     "output_type": "stream",
     "text": [
      "122/122 [==============================] - 1s 8ms/step - loss: 3332.7180 - val_loss: 1900.2971\n",
      "Epoch 2/50\n",
      " 11/122 [=>............................] - ETA: 0s - loss: 2050.6697"
     ]
    },
    {
     "name": "stderr",
     "output_type": "stream",
     "text": [
      "2022-07-26 17:33:10.634091: I tensorflow/core/grappler/optimizers/custom_graph_optimizer_registry.cc:113] Plugin optimizer for device_type GPU is enabled.\n"
     ]
    },
    {
     "name": "stdout",
     "output_type": "stream",
     "text": [
      "122/122 [==============================] - 1s 6ms/step - loss: 1871.3906 - val_loss: 1652.0077\n",
      "Epoch 3/50\n",
      "122/122 [==============================] - 1s 6ms/step - loss: 1703.9670 - val_loss: 1946.6705\n",
      "Epoch 4/50\n",
      "122/122 [==============================] - 1s 6ms/step - loss: 1555.0143 - val_loss: 1713.3628\n",
      "Epoch 5/50\n",
      "122/122 [==============================] - 1s 6ms/step - loss: 1406.7285 - val_loss: 1894.7319\n",
      "Epoch 6/50\n",
      "122/122 [==============================] - 1s 6ms/step - loss: 1317.6168 - val_loss: 1691.8712\n",
      "Epoch 7/50\n",
      "122/122 [==============================] - 1s 6ms/step - loss: 1272.6362 - val_loss: 1867.6289\n",
      "Epoch 8/50\n",
      "122/122 [==============================] - 1s 6ms/step - loss: 1171.1572 - val_loss: 2243.1619\n",
      "Epoch 9/50\n",
      "122/122 [==============================] - 1s 6ms/step - loss: 1163.7954 - val_loss: 1526.9408\n",
      "Epoch 10/50\n",
      "122/122 [==============================] - 1s 6ms/step - loss: 1160.9053 - val_loss: 1536.1240\n",
      "Epoch 11/50\n",
      "122/122 [==============================] - 1s 6ms/step - loss: 1050.1831 - val_loss: 1662.3584\n",
      "Epoch 12/50\n",
      "122/122 [==============================] - 1s 6ms/step - loss: 1097.1335 - val_loss: 1582.5787\n",
      "Epoch 13/50\n",
      "122/122 [==============================] - 1s 6ms/step - loss: 1030.8092 - val_loss: 1687.1639\n",
      "Epoch 14/50\n",
      "122/122 [==============================] - 1s 6ms/step - loss: 974.2558 - val_loss: 1977.6566\n",
      "Epoch 15/50\n",
      "122/122 [==============================] - 1s 7ms/step - loss: 1047.2494 - val_loss: 2356.3296\n",
      "Epoch 16/50\n",
      "122/122 [==============================] - 1s 6ms/step - loss: 963.0510 - val_loss: 1733.9946\n",
      "Epoch 17/50\n",
      "122/122 [==============================] - 1s 6ms/step - loss: 974.4912 - val_loss: 1812.7864\n",
      "Epoch 18/50\n",
      "122/122 [==============================] - 1s 6ms/step - loss: 919.8208 - val_loss: 2107.1157\n",
      "Epoch 19/50\n",
      "122/122 [==============================] - 1s 6ms/step - loss: 878.6319 - val_loss: 1616.9277\n",
      "Epoch 20/50\n",
      "122/122 [==============================] - 1s 6ms/step - loss: 866.2102 - val_loss: 2470.3428\n",
      "Epoch 21/50\n",
      "122/122 [==============================] - 1s 6ms/step - loss: 841.8506 - val_loss: 1956.9127\n",
      "Epoch 22/50\n",
      "122/122 [==============================] - 1s 6ms/step - loss: 826.0879 - val_loss: 1870.7275\n",
      "Epoch 23/50\n",
      "122/122 [==============================] - 1s 6ms/step - loss: 847.0402 - val_loss: 1659.3732\n",
      "Epoch 24/50\n",
      "122/122 [==============================] - 1s 6ms/step - loss: 759.1226 - val_loss: 1686.1086\n",
      "Epoch 25/50\n",
      "122/122 [==============================] - 1s 6ms/step - loss: 768.8896 - val_loss: 1701.6130\n",
      "Epoch 26/50\n",
      "122/122 [==============================] - 1s 6ms/step - loss: 739.4551 - val_loss: 1566.7937\n",
      "Epoch 27/50\n",
      "122/122 [==============================] - 1s 6ms/step - loss: 751.1013 - val_loss: 3473.6755\n",
      "Epoch 28/50\n",
      "122/122 [==============================] - 1s 6ms/step - loss: 758.7993 - val_loss: 2375.2192\n",
      "Epoch 29/50\n",
      "122/122 [==============================] - 1s 6ms/step - loss: 731.7140 - val_loss: 1581.1295\n",
      "Epoch 30/50\n",
      "122/122 [==============================] - 1s 6ms/step - loss: 712.6213 - val_loss: 1894.0803\n",
      "Epoch 31/50\n",
      "122/122 [==============================] - 1s 6ms/step - loss: 688.9967 - val_loss: 1707.5983\n",
      "Epoch 32/50\n",
      "122/122 [==============================] - 1s 6ms/step - loss: 682.1635 - val_loss: 1798.7404\n",
      "Epoch 33/50\n",
      "122/122 [==============================] - 1s 6ms/step - loss: 653.6269 - val_loss: 1997.0105\n",
      "Epoch 34/50\n",
      "122/122 [==============================] - 1s 6ms/step - loss: 668.3569 - val_loss: 1568.9442\n",
      "Epoch 35/50\n",
      "122/122 [==============================] - 1s 6ms/step - loss: 674.5474 - val_loss: 1424.1074\n",
      "Epoch 36/50\n",
      "122/122 [==============================] - 1s 6ms/step - loss: 671.0503 - val_loss: 1579.1588\n",
      "Epoch 37/50\n",
      "122/122 [==============================] - 1s 6ms/step - loss: 629.3268 - val_loss: 1769.4626\n",
      "Epoch 38/50\n",
      "122/122 [==============================] - 1s 6ms/step - loss: 627.1387 - val_loss: 1757.2731\n",
      "Epoch 39/50\n",
      "122/122 [==============================] - 1s 6ms/step - loss: 713.4898 - val_loss: 1571.2396\n",
      "Epoch 40/50\n",
      "122/122 [==============================] - 1s 6ms/step - loss: 631.5832 - val_loss: 1524.1436\n",
      "Epoch 41/50\n",
      "122/122 [==============================] - 1s 6ms/step - loss: 569.3060 - val_loss: 1731.6406\n",
      "Epoch 42/50\n",
      "122/122 [==============================] - 1s 6ms/step - loss: 559.5602 - val_loss: 1655.9532\n",
      "Epoch 43/50\n",
      "122/122 [==============================] - 1s 6ms/step - loss: 636.4655 - val_loss: 1808.5637\n",
      "Epoch 44/50\n",
      "122/122 [==============================] - 1s 6ms/step - loss: 576.8802 - val_loss: 1820.4637\n",
      "Epoch 45/50\n",
      "122/122 [==============================] - 1s 6ms/step - loss: 613.6886 - val_loss: 1798.7667\n",
      "Epoch 46/50\n",
      "122/122 [==============================] - 1s 6ms/step - loss: 517.5104 - val_loss: 1582.7284\n",
      "Epoch 47/50\n",
      "122/122 [==============================] - 1s 6ms/step - loss: 510.0911 - val_loss: 1632.5103\n",
      "Epoch 48/50\n",
      "122/122 [==============================] - 1s 6ms/step - loss: 587.6174 - val_loss: 1622.3704\n",
      "Epoch 49/50\n",
      "122/122 [==============================] - 1s 6ms/step - loss: 493.5235 - val_loss: 1887.2017\n",
      "Epoch 50/50\n",
      "122/122 [==============================] - 1s 6ms/step - loss: 603.6473 - val_loss: 1848.5432\n"
     ]
    }
   ],
   "source": [
    "cnn_model = Sequential()\n",
    "cnn_model.add(Convolution1D(256, 3, input_shape = (window_length, cnn_tr_data.shape[2])))\n",
    "cnn_model.add(Convolution1D(128, 3, activation = 'relu'))\n",
    "cnn_model.add(Convolution1D(64, 3, activation = 'relu'))\n",
    "cnn_model.add(GlobalAveragePooling1D(data_format = 'channels_last', keepdims = False))\n",
    "cnn_model.add(Dense(1, activation = 'relu'))\n",
    "\n",
    "cnn_model.compile(loss='mean_squared_error', optimizer='adam')\n",
    "cnn_model.save_weights('simple_lstm_weights.h5')\n",
    "\n",
    "cnn_model.compile(loss='mean_squared_error', optimizer='adam')  \n",
    "cnn_model.load_weights('simple_lstm_weights.h5')  \n",
    "\n",
    "history = cnn_model.fit(cnn_tr_data, cnn_tr_labels,\n",
    "                        validation_data=(cnn_val_data, cnn_val_labels),\n",
    "                        epochs=50,\n",
    "                        batch_size=128)"
   ]
  },
  {
   "cell_type": "code",
   "execution_count": 137,
   "metadata": {},
   "outputs": [],
   "source": [
    "# TESTING FUNCTION\n",
    "def evaluate(actual, pred, mode = 'test'):\n",
    "    mse = mean_squared_error(actual, pred)\n",
    "    rmse = np.sqrt(mse)\n",
    "    variance = r2_score(actual, pred)\n",
    "    print(mode + ' set RMSE: ' + str(rmse) + ', R2: ' + str(variance))"
   ]
  },
  {
   "cell_type": "code",
   "execution_count": 138,
   "metadata": {},
   "outputs": [
    {
     "name": "stdout",
     "output_type": "stream",
     "text": [
      " 88/485 [====>.........................] - ETA: 0s"
     ]
    },
    {
     "name": "stderr",
     "output_type": "stream",
     "text": [
      "2022-07-26 17:33:52.158932: I tensorflow/core/grappler/optimizers/custom_graph_optimizer_registry.cc:113] Plugin optimizer for device_type GPU is enabled.\n"
     ]
    },
    {
     "name": "stdout",
     "output_type": "stream",
     "text": [
      "485/485 [==============================] - 1s 2ms/step\n",
      "train set RMSE: 23.811225368314084, R2: 0.8667401887967089\n",
      "4/4 [==============================] - 0s 7ms/step\n",
      "test set RMSE: 43.661987771604466, R2: -0.10394506693947148\n"
     ]
    }
   ],
   "source": [
    "# TESTING\n",
    "train_cnn_pred = cnn_model.predict(cnn_tr_data)\n",
    "evaluate(cnn_tr_labels, train_cnn_pred, 'train')\n",
    "\n",
    "test_cnn_pred = cnn_model.predict(cnn_test_data)\n",
    "evaluate(cnn_test_labels, test_cnn_pred)"
   ]
  },
  {
   "cell_type": "markdown",
   "metadata": {},
   "source": [
    "## LSTM Neural Network"
   ]
  },
  {
   "cell_type": "code",
   "execution_count": null,
   "metadata": {},
   "outputs": [],
   "source": [
    "lstm_model = Sequential()\n",
    "lstm_model.add(LSTM(32, activation='tanh', input_shape=(window_length, cnn_tr_data.shape[2])))\n",
    "lstm_model.add(Dense(1))\n",
    "\n",
    "lstm_model.compile(loss='mean_squared_error', optimizer='adam')\n",
    "lstm_model.save_weights('simple_lstm_weights.h5')\n",
    "\n",
    "lstm_model.compile(loss='mean_squared_error', optimizer='adam')  \n",
    "lstm_model.load_weights('simple_lstm_weights.h5')  \n",
    "\n",
    "history = lstm_model.fit(cnn_tr_data, cnn_tr_labels,\n",
    "                        validation_data=(cnn_val_data, cnn_val_labels),\n",
    "                        epochs=50,\n",
    "                        batch_size=128)"
   ]
  },
  {
   "cell_type": "code",
   "execution_count": null,
   "metadata": {},
   "outputs": [],
   "source": [
    "# PLOT LOSS HISTORY\n",
    "def plot_loss(fit_history):\n",
    "    plt.figure(figsize=(13,5))\n",
    "    plt.plot(range(1, len(fit_history.history['loss'])+1), fit_history.history['loss'], label='train')\n",
    "    plt.plot(range(1, len(fit_history.history['val_loss'])+1), fit_history.history['val_loss'], label='validate')\n",
    "    plt.xlabel('Epochs')\n",
    "    plt.ylabel('Loss')\n",
    "    plt.legend()\n",
    "    plt.show()\n",
    "\n",
    "plot_loss(history)"
   ]
  },
  {
   "cell_type": "code",
   "execution_count": null,
   "metadata": {},
   "outputs": [],
   "source": [
    "# TESTING FUNCTION\n",
    "def evaluate(actual, pred, mode = 'test'):\n",
    "    mse = mean_squared_error(actual, pred)\n",
    "    rmse = np.sqrt(mse)\n",
    "    variance = r2_score(actual, pred)\n",
    "    print(mode + ' set RMSE: ' + str(rmse) + ', R2: ' + str(variance))"
   ]
  },
  {
   "cell_type": "code",
   "execution_count": null,
   "metadata": {},
   "outputs": [],
   "source": [
    "# TESTING\n",
    "train_cnn_pred = lstm_model.predict(cnn_tr_data)\n",
    "evaluate(cnn_tr_labels, train_cnn_pred, 'train')\n",
    "\n",
    "test_cnn_pred = lstm_model.predict(cnn_test_data)\n",
    "evaluate(cnn_test_labels, test_cnn_pred)"
   ]
  }
 ],
 "metadata": {
  "kernelspec": {
   "display_name": "Python 3.9.13 ('tf-m1')",
   "language": "python",
   "name": "python3"
  },
  "language_info": {
   "codemirror_mode": {
    "name": "ipython",
    "version": 3
   },
   "file_extension": ".py",
   "mimetype": "text/x-python",
   "name": "python",
   "nbconvert_exporter": "python",
   "pygments_lexer": "ipython3",
   "version": "3.9.13"
  },
  "orig_nbformat": 4,
  "vscode": {
   "interpreter": {
    "hash": "7db919a617d352c2dafc671a388d65b97a697f0535deb448e14c82fa78835651"
   }
  }
 },
 "nbformat": 4,
 "nbformat_minor": 2
}
