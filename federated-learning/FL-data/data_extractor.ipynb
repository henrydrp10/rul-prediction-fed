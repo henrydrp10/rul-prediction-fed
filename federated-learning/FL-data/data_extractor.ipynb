{
 "cells": [
  {
   "cell_type": "markdown",
   "metadata": {},
   "source": [
    "## Extract FL Data"
   ]
  },
  {
   "cell_type": "code",
   "execution_count": 63,
   "metadata": {},
   "outputs": [],
   "source": [
    "import numpy as np\n",
    "import pandas as pd"
   ]
  },
  {
   "cell_type": "code",
   "execution_count": 64,
   "metadata": {},
   "outputs": [],
   "source": [
    "train_df = pd.read_csv('../../data_analysis/fd001/fd001-raw_train.csv', sep=' ')\n",
    "test_df = pd.read_csv('../../data_analysis/fd001/fd001-raw_test.csv', sep=' ')\n",
    "train_labels_df = pd.read_csv('../../data_analysis/fd001/fd001-training_labels.csv', sep=' ')"
   ]
  },
  {
   "cell_type": "code",
   "execution_count": 65,
   "metadata": {},
   "outputs": [],
   "source": [
    "test_df = test_df.groupby('ID').last().reset_index()\n",
    "test_labels_df = pd.read_csv('../../TED/CMAPSSData/RUL_FD001.txt', sep=' ', header = None)"
   ]
  },
  {
   "cell_type": "code",
   "execution_count": 66,
   "metadata": {},
   "outputs": [],
   "source": [
    "columns = train_df.columns\n",
    "ms_used = ['RUL']\n",
    "for i in range(1, 22):\n",
    "    if i not in [1, 5, 6, 9, 10, 14, 16, 18, 19]:\n",
    "        ms_used.append('SensorMeasure' + str(i))"
   ]
  },
  {
   "cell_type": "code",
   "execution_count": 67,
   "metadata": {},
   "outputs": [],
   "source": [
    "train_labels_df[columns] = train_df[columns]\n",
    "test_labels_df[columns] = test_df[columns]"
   ]
  },
  {
   "cell_type": "code",
   "execution_count": 68,
   "metadata": {},
   "outputs": [],
   "source": [
    "train_df = train_labels_df.copy()\n",
    "test_df = test_labels_df.copy()"
   ]
  },
  {
   "cell_type": "code",
   "execution_count": 69,
   "metadata": {},
   "outputs": [],
   "source": [
    "train_gb = train_df.groupby(['ID'], sort = False)"
   ]
  },
  {
   "cell_type": "code",
   "execution_count": 70,
   "metadata": {},
   "outputs": [],
   "source": [
    "# Args: List of pcts -> ex: [0.75, 0.2, 0.05]\n",
    "def split_data(pcts):\n",
    "\n",
    "    idx_remaining = [i for i in range(1, len(train_gb) + 1)]\n",
    "    nums = []\n",
    "    indices_concat = []\n",
    "    for pct in pcts:\n",
    "        nums.append(round(pct * len(train_gb)))\n",
    "    n_workers = len(pcts)\n",
    "\n",
    "    for i in range(n_workers):\n",
    "        idx_worker = np.sort(np.random.choice(idx_remaining, nums[i], replace = False))\n",
    "        indices_concat.append(idx_worker) \n",
    "        idx_remaining = np.setdiff1d(idx_remaining, idx_worker)\n",
    "\n",
    "    for i in range(len(indices_concat)):\n",
    "        id_list = indices_concat[i]\n",
    "        df = train_gb.get_group(id_list[0])\n",
    "        for j in range(1, len(id_list)):\n",
    "            df = pd.concat([df, train_gb.get_group(id_list[j])])\n",
    "        df[ms_used].to_csv('./data/x_partition_' + str(i) + '.csv', sep=' ', index_label='id')\n",
    "\n",
    "split_data([0.23, 0.27, 0.11, 0.39])"
   ]
  }
 ],
 "metadata": {
  "kernelspec": {
   "display_name": "Python 3.8.13 64-bit ('flower-3.8.13')",
   "language": "python",
   "name": "python3"
  },
  "language_info": {
   "codemirror_mode": {
    "name": "ipython",
    "version": 3
   },
   "file_extension": ".py",
   "mimetype": "text/x-python",
   "name": "python",
   "nbconvert_exporter": "python",
   "pygments_lexer": "ipython3",
   "version": "3.8.13"
  },
  "orig_nbformat": 4,
  "vscode": {
   "interpreter": {
    "hash": "afb86fb12fd2a818717064780a7aa0239eba96379dea6310fea96d8b7623a3b5"
   }
  }
 },
 "nbformat": 4,
 "nbformat_minor": 2
}
